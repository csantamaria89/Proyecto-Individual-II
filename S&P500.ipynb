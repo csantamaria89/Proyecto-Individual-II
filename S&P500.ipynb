{
 "cells": [
  {
   "cell_type": "code",
   "execution_count": 23,
   "metadata": {},
   "outputs": [
    {
     "name": "stdout",
     "output_type": "stream",
     "text": [
      "                                  Open         High          Low        Close  \\\n",
      "Date                                                                            \n",
      "2000-01-03 00:00:00-05:00  1469.250000  1478.000000  1438.359985  1455.219971   \n",
      "2000-01-04 00:00:00-05:00  1455.219971  1455.219971  1397.430054  1399.420044   \n",
      "2000-01-05 00:00:00-05:00  1399.420044  1413.270020  1377.680054  1402.109985   \n",
      "2000-01-06 00:00:00-05:00  1402.109985  1411.900024  1392.099976  1403.449951   \n",
      "2000-01-07 00:00:00-05:00  1403.449951  1441.469971  1400.729980  1441.469971   \n",
      "\n",
      "                               Volume  Dividends  Stock Splits  \n",
      "Date                                                            \n",
      "2000-01-03 00:00:00-05:00   931800000        0.0           0.0  \n",
      "2000-01-04 00:00:00-05:00  1009000000        0.0           0.0  \n",
      "2000-01-05 00:00:00-05:00  1085500000        0.0           0.0  \n",
      "2000-01-06 00:00:00-05:00  1092300000        0.0           0.0  \n",
      "2000-01-07 00:00:00-05:00  1225200000        0.0           0.0  \n"
     ]
    }
   ],
   "source": [
    "import pandas as pd\n",
    "import yfinance as yf\n",
    "\n",
    "simbolo = '^GSPC'\n",
    "sp500 = yf.Ticker(simbolo)\n",
    "\n",
    "inicio = '2000-01-01'\n",
    "fin = '2023-03-23'\n",
    "\n",
    "historico_sp500 = sp500.history(start=inicio, end=fin)\n",
    "\n",
    "df_sp500 = pd.DataFrame(historico_sp500)\n",
    "print(df_sp500.head())"
   ]
  },
  {
   "cell_type": "code",
   "execution_count": 24,
   "metadata": {},
   "outputs": [],
   "source": [
    "df_sp500.to_excel(\"sp500.xlsx\", index=False)"
   ]
  },
  {
   "cell_type": "code",
   "execution_count": 25,
   "metadata": {},
   "outputs": [
    {
     "data": {
      "text/html": [
       "<div>\n",
       "<style scoped>\n",
       "    .dataframe tbody tr th:only-of-type {\n",
       "        vertical-align: middle;\n",
       "    }\n",
       "\n",
       "    .dataframe tbody tr th {\n",
       "        vertical-align: top;\n",
       "    }\n",
       "\n",
       "    .dataframe thead th {\n",
       "        text-align: right;\n",
       "    }\n",
       "</style>\n",
       "<table border=\"1\" class=\"dataframe\">\n",
       "  <thead>\n",
       "    <tr style=\"text-align: right;\">\n",
       "      <th></th>\n",
       "      <th>Open</th>\n",
       "      <th>High</th>\n",
       "      <th>Low</th>\n",
       "      <th>Close</th>\n",
       "      <th>Volume</th>\n",
       "      <th>Dividends</th>\n",
       "      <th>Stock Splits</th>\n",
       "    </tr>\n",
       "    <tr>\n",
       "      <th>Date</th>\n",
       "      <th></th>\n",
       "      <th></th>\n",
       "      <th></th>\n",
       "      <th></th>\n",
       "      <th></th>\n",
       "      <th></th>\n",
       "      <th></th>\n",
       "    </tr>\n",
       "  </thead>\n",
       "  <tbody>\n",
       "    <tr>\n",
       "      <th>2000-01-03 00:00:00-05:00</th>\n",
       "      <td>1469.250000</td>\n",
       "      <td>1478.000000</td>\n",
       "      <td>1438.359985</td>\n",
       "      <td>1455.219971</td>\n",
       "      <td>931800000</td>\n",
       "      <td>0.0</td>\n",
       "      <td>0.0</td>\n",
       "    </tr>\n",
       "    <tr>\n",
       "      <th>2000-01-04 00:00:00-05:00</th>\n",
       "      <td>1455.219971</td>\n",
       "      <td>1455.219971</td>\n",
       "      <td>1397.430054</td>\n",
       "      <td>1399.420044</td>\n",
       "      <td>1009000000</td>\n",
       "      <td>0.0</td>\n",
       "      <td>0.0</td>\n",
       "    </tr>\n",
       "    <tr>\n",
       "      <th>2000-01-05 00:00:00-05:00</th>\n",
       "      <td>1399.420044</td>\n",
       "      <td>1413.270020</td>\n",
       "      <td>1377.680054</td>\n",
       "      <td>1402.109985</td>\n",
       "      <td>1085500000</td>\n",
       "      <td>0.0</td>\n",
       "      <td>0.0</td>\n",
       "    </tr>\n",
       "    <tr>\n",
       "      <th>2000-01-06 00:00:00-05:00</th>\n",
       "      <td>1402.109985</td>\n",
       "      <td>1411.900024</td>\n",
       "      <td>1392.099976</td>\n",
       "      <td>1403.449951</td>\n",
       "      <td>1092300000</td>\n",
       "      <td>0.0</td>\n",
       "      <td>0.0</td>\n",
       "    </tr>\n",
       "    <tr>\n",
       "      <th>2000-01-07 00:00:00-05:00</th>\n",
       "      <td>1403.449951</td>\n",
       "      <td>1441.469971</td>\n",
       "      <td>1400.729980</td>\n",
       "      <td>1441.469971</td>\n",
       "      <td>1225200000</td>\n",
       "      <td>0.0</td>\n",
       "      <td>0.0</td>\n",
       "    </tr>\n",
       "  </tbody>\n",
       "</table>\n",
       "</div>"
      ],
      "text/plain": [
       "                                  Open         High          Low        Close  \\\n",
       "Date                                                                            \n",
       "2000-01-03 00:00:00-05:00  1469.250000  1478.000000  1438.359985  1455.219971   \n",
       "2000-01-04 00:00:00-05:00  1455.219971  1455.219971  1397.430054  1399.420044   \n",
       "2000-01-05 00:00:00-05:00  1399.420044  1413.270020  1377.680054  1402.109985   \n",
       "2000-01-06 00:00:00-05:00  1402.109985  1411.900024  1392.099976  1403.449951   \n",
       "2000-01-07 00:00:00-05:00  1403.449951  1441.469971  1400.729980  1441.469971   \n",
       "\n",
       "                               Volume  Dividends  Stock Splits  \n",
       "Date                                                            \n",
       "2000-01-03 00:00:00-05:00   931800000        0.0           0.0  \n",
       "2000-01-04 00:00:00-05:00  1009000000        0.0           0.0  \n",
       "2000-01-05 00:00:00-05:00  1085500000        0.0           0.0  \n",
       "2000-01-06 00:00:00-05:00  1092300000        0.0           0.0  \n",
       "2000-01-07 00:00:00-05:00  1225200000        0.0           0.0  "
      ]
     },
     "execution_count": 25,
     "metadata": {},
     "output_type": "execute_result"
    }
   ],
   "source": [
    "df_sp500.head()"
   ]
  },
  {
   "cell_type": "code",
   "execution_count": 39,
   "metadata": {},
   "outputs": [],
   "source": [
    "import pandas as pd\n",
    "import yfinance as yf\n",
    "\n",
    "simbolo = '^GSPC'\n",
    "Adobe = yf.Ticker(simbolo)\n",
    "df = Adobe.history(start='2000-01-01', end='2023-03-23')\n",
    "df = df.reset_index()"
   ]
  },
  {
   "cell_type": "code",
   "execution_count": 40,
   "metadata": {},
   "outputs": [
    {
     "data": {
      "text/html": [
       "<div>\n",
       "<style scoped>\n",
       "    .dataframe tbody tr th:only-of-type {\n",
       "        vertical-align: middle;\n",
       "    }\n",
       "\n",
       "    .dataframe tbody tr th {\n",
       "        vertical-align: top;\n",
       "    }\n",
       "\n",
       "    .dataframe thead th {\n",
       "        text-align: right;\n",
       "    }\n",
       "</style>\n",
       "<table border=\"1\" class=\"dataframe\">\n",
       "  <thead>\n",
       "    <tr style=\"text-align: right;\">\n",
       "      <th></th>\n",
       "      <th>Date</th>\n",
       "      <th>Open</th>\n",
       "      <th>High</th>\n",
       "      <th>Low</th>\n",
       "      <th>Close</th>\n",
       "      <th>Volume</th>\n",
       "      <th>Dividends</th>\n",
       "      <th>Stock Splits</th>\n",
       "    </tr>\n",
       "  </thead>\n",
       "  <tbody>\n",
       "    <tr>\n",
       "      <th>0</th>\n",
       "      <td>2000-01-03 00:00:00-05:00</td>\n",
       "      <td>1469.250000</td>\n",
       "      <td>1478.000000</td>\n",
       "      <td>1438.359985</td>\n",
       "      <td>1455.219971</td>\n",
       "      <td>931800000</td>\n",
       "      <td>0.0</td>\n",
       "      <td>0.0</td>\n",
       "    </tr>\n",
       "    <tr>\n",
       "      <th>1</th>\n",
       "      <td>2000-01-04 00:00:00-05:00</td>\n",
       "      <td>1455.219971</td>\n",
       "      <td>1455.219971</td>\n",
       "      <td>1397.430054</td>\n",
       "      <td>1399.420044</td>\n",
       "      <td>1009000000</td>\n",
       "      <td>0.0</td>\n",
       "      <td>0.0</td>\n",
       "    </tr>\n",
       "    <tr>\n",
       "      <th>2</th>\n",
       "      <td>2000-01-05 00:00:00-05:00</td>\n",
       "      <td>1399.420044</td>\n",
       "      <td>1413.270020</td>\n",
       "      <td>1377.680054</td>\n",
       "      <td>1402.109985</td>\n",
       "      <td>1085500000</td>\n",
       "      <td>0.0</td>\n",
       "      <td>0.0</td>\n",
       "    </tr>\n",
       "    <tr>\n",
       "      <th>3</th>\n",
       "      <td>2000-01-06 00:00:00-05:00</td>\n",
       "      <td>1402.109985</td>\n",
       "      <td>1411.900024</td>\n",
       "      <td>1392.099976</td>\n",
       "      <td>1403.449951</td>\n",
       "      <td>1092300000</td>\n",
       "      <td>0.0</td>\n",
       "      <td>0.0</td>\n",
       "    </tr>\n",
       "    <tr>\n",
       "      <th>4</th>\n",
       "      <td>2000-01-07 00:00:00-05:00</td>\n",
       "      <td>1403.449951</td>\n",
       "      <td>1441.469971</td>\n",
       "      <td>1400.729980</td>\n",
       "      <td>1441.469971</td>\n",
       "      <td>1225200000</td>\n",
       "      <td>0.0</td>\n",
       "      <td>0.0</td>\n",
       "    </tr>\n",
       "  </tbody>\n",
       "</table>\n",
       "</div>"
      ],
      "text/plain": [
       "                       Date         Open         High          Low  \\\n",
       "0 2000-01-03 00:00:00-05:00  1469.250000  1478.000000  1438.359985   \n",
       "1 2000-01-04 00:00:00-05:00  1455.219971  1455.219971  1397.430054   \n",
       "2 2000-01-05 00:00:00-05:00  1399.420044  1413.270020  1377.680054   \n",
       "3 2000-01-06 00:00:00-05:00  1402.109985  1411.900024  1392.099976   \n",
       "4 2000-01-07 00:00:00-05:00  1403.449951  1441.469971  1400.729980   \n",
       "\n",
       "         Close      Volume  Dividends  Stock Splits  \n",
       "0  1455.219971   931800000        0.0           0.0  \n",
       "1  1399.420044  1009000000        0.0           0.0  \n",
       "2  1402.109985  1085500000        0.0           0.0  \n",
       "3  1403.449951  1092300000        0.0           0.0  \n",
       "4  1441.469971  1225200000        0.0           0.0  "
      ]
     },
     "execution_count": 40,
     "metadata": {},
     "output_type": "execute_result"
    }
   ],
   "source": [
    "df.head()"
   ]
  },
  {
   "cell_type": "code",
   "execution_count": 48,
   "metadata": {},
   "outputs": [],
   "source": [
    "df.to_csv(\"sp500_history_Prueba.csv\", index=False)"
   ]
  },
  {
   "cell_type": "code",
   "execution_count": null,
   "metadata": {},
   "outputs": [],
   "source": []
  },
  {
   "cell_type": "code",
   "execution_count": 41,
   "metadata": {},
   "outputs": [
    {
     "name": "stdout",
     "output_type": "stream",
     "text": [
      "<class 'pandas.core.frame.DataFrame'>\n",
      "RangeIndex: 5842 entries, 0 to 5841\n",
      "Data columns (total 8 columns):\n",
      " #   Column        Non-Null Count  Dtype                           \n",
      "---  ------        --------------  -----                           \n",
      " 0   Date          5842 non-null   datetime64[ns, America/New_York]\n",
      " 1   Open          5842 non-null   float64                         \n",
      " 2   High          5842 non-null   float64                         \n",
      " 3   Low           5842 non-null   float64                         \n",
      " 4   Close         5842 non-null   float64                         \n",
      " 5   Volume        5842 non-null   int64                           \n",
      " 6   Dividends     5842 non-null   float64                         \n",
      " 7   Stock Splits  5842 non-null   float64                         \n",
      "dtypes: datetime64[ns, America/New_York](1), float64(6), int64(1)\n",
      "memory usage: 365.2 KB\n"
     ]
    }
   ],
   "source": [
    "df.info()"
   ]
  },
  {
   "cell_type": "code",
   "execution_count": 42,
   "metadata": {},
   "outputs": [],
   "source": [
    "df = df.set_index('Date')\n",
    "df = df.resample('M').last()"
   ]
  },
  {
   "cell_type": "code",
   "execution_count": 43,
   "metadata": {},
   "outputs": [
    {
     "ename": "KeyError",
     "evalue": "'Date'",
     "output_type": "error",
     "traceback": [
      "\u001b[1;31m---------------------------------------------------------------------------\u001b[0m",
      "\u001b[1;31mKeyError\u001b[0m                                  Traceback (most recent call last)",
      "File \u001b[1;32mc:\\Users\\kmilo\\anaconda3\\lib\\site-packages\\pandas\\core\\indexes\\base.py:3802\u001b[0m, in \u001b[0;36mIndex.get_loc\u001b[1;34m(self, key, method, tolerance)\u001b[0m\n\u001b[0;32m   3801\u001b[0m \u001b[39mtry\u001b[39;00m:\n\u001b[1;32m-> 3802\u001b[0m     \u001b[39mreturn\u001b[39;00m \u001b[39mself\u001b[39;49m\u001b[39m.\u001b[39;49m_engine\u001b[39m.\u001b[39;49mget_loc(casted_key)\n\u001b[0;32m   3803\u001b[0m \u001b[39mexcept\u001b[39;00m \u001b[39mKeyError\u001b[39;00m \u001b[39mas\u001b[39;00m err:\n",
      "File \u001b[1;32mc:\\Users\\kmilo\\anaconda3\\lib\\site-packages\\pandas\\_libs\\index.pyx:138\u001b[0m, in \u001b[0;36mpandas._libs.index.IndexEngine.get_loc\u001b[1;34m()\u001b[0m\n",
      "File \u001b[1;32mc:\\Users\\kmilo\\anaconda3\\lib\\site-packages\\pandas\\_libs\\index.pyx:165\u001b[0m, in \u001b[0;36mpandas._libs.index.IndexEngine.get_loc\u001b[1;34m()\u001b[0m\n",
      "File \u001b[1;32mpandas\\_libs\\hashtable_class_helper.pxi:5745\u001b[0m, in \u001b[0;36mpandas._libs.hashtable.PyObjectHashTable.get_item\u001b[1;34m()\u001b[0m\n",
      "File \u001b[1;32mpandas\\_libs\\hashtable_class_helper.pxi:5753\u001b[0m, in \u001b[0;36mpandas._libs.hashtable.PyObjectHashTable.get_item\u001b[1;34m()\u001b[0m\n",
      "\u001b[1;31mKeyError\u001b[0m: 'Date'",
      "\nThe above exception was the direct cause of the following exception:\n",
      "\u001b[1;31mKeyError\u001b[0m                                  Traceback (most recent call last)",
      "Cell \u001b[1;32mIn[43], line 1\u001b[0m\n\u001b[1;32m----> 1\u001b[0m df[\u001b[39m'\u001b[39m\u001b[39mDate\u001b[39m\u001b[39m'\u001b[39m] \u001b[39m=\u001b[39m pd\u001b[39m.\u001b[39mto_datetime(df[\u001b[39m'\u001b[39;49m\u001b[39mDate\u001b[39;49m\u001b[39m'\u001b[39;49m])\n\u001b[0;32m      2\u001b[0m df \u001b[39m=\u001b[39m df\u001b[39m.\u001b[39mset_index(\u001b[39m'\u001b[39m\u001b[39mDate\u001b[39m\u001b[39m'\u001b[39m)\n",
      "File \u001b[1;32mc:\\Users\\kmilo\\anaconda3\\lib\\site-packages\\pandas\\core\\frame.py:3807\u001b[0m, in \u001b[0;36mDataFrame.__getitem__\u001b[1;34m(self, key)\u001b[0m\n\u001b[0;32m   3805\u001b[0m \u001b[39mif\u001b[39;00m \u001b[39mself\u001b[39m\u001b[39m.\u001b[39mcolumns\u001b[39m.\u001b[39mnlevels \u001b[39m>\u001b[39m \u001b[39m1\u001b[39m:\n\u001b[0;32m   3806\u001b[0m     \u001b[39mreturn\u001b[39;00m \u001b[39mself\u001b[39m\u001b[39m.\u001b[39m_getitem_multilevel(key)\n\u001b[1;32m-> 3807\u001b[0m indexer \u001b[39m=\u001b[39m \u001b[39mself\u001b[39;49m\u001b[39m.\u001b[39;49mcolumns\u001b[39m.\u001b[39;49mget_loc(key)\n\u001b[0;32m   3808\u001b[0m \u001b[39mif\u001b[39;00m is_integer(indexer):\n\u001b[0;32m   3809\u001b[0m     indexer \u001b[39m=\u001b[39m [indexer]\n",
      "File \u001b[1;32mc:\\Users\\kmilo\\anaconda3\\lib\\site-packages\\pandas\\core\\indexes\\base.py:3804\u001b[0m, in \u001b[0;36mIndex.get_loc\u001b[1;34m(self, key, method, tolerance)\u001b[0m\n\u001b[0;32m   3802\u001b[0m     \u001b[39mreturn\u001b[39;00m \u001b[39mself\u001b[39m\u001b[39m.\u001b[39m_engine\u001b[39m.\u001b[39mget_loc(casted_key)\n\u001b[0;32m   3803\u001b[0m \u001b[39mexcept\u001b[39;00m \u001b[39mKeyError\u001b[39;00m \u001b[39mas\u001b[39;00m err:\n\u001b[1;32m-> 3804\u001b[0m     \u001b[39mraise\u001b[39;00m \u001b[39mKeyError\u001b[39;00m(key) \u001b[39mfrom\u001b[39;00m \u001b[39merr\u001b[39;00m\n\u001b[0;32m   3805\u001b[0m \u001b[39mexcept\u001b[39;00m \u001b[39mTypeError\u001b[39;00m:\n\u001b[0;32m   3806\u001b[0m     \u001b[39m# If we have a listlike key, _check_indexing_error will raise\u001b[39;00m\n\u001b[0;32m   3807\u001b[0m     \u001b[39m#  InvalidIndexError. Otherwise we fall through and re-raise\u001b[39;00m\n\u001b[0;32m   3808\u001b[0m     \u001b[39m#  the TypeError.\u001b[39;00m\n\u001b[0;32m   3809\u001b[0m     \u001b[39mself\u001b[39m\u001b[39m.\u001b[39m_check_indexing_error(key)\n",
      "\u001b[1;31mKeyError\u001b[0m: 'Date'"
     ]
    }
   ],
   "source": [
    "\n",
    "df['Date'] = pd.to_datetime(df['Date'])\n",
    "df = df.set_index('Date')"
   ]
  },
  {
   "cell_type": "code",
   "execution_count": 44,
   "metadata": {},
   "outputs": [],
   "source": [
    "\n",
    "# Agregar una columna 'Month' que contenga el mes de cada fecha\n",
    "df['Month'] = df.index.month\n",
    "\n",
    "# Agregar una columna 'Year' que contenga el año de cada fecha\n",
    "df['Year'] = df.index.year"
   ]
  },
  {
   "cell_type": "code",
   "execution_count": 45,
   "metadata": {},
   "outputs": [
    {
     "name": "stdout",
     "output_type": "stream",
     "text": [
      "                         Date         Open         High          Low  \\\n",
      "0   2000-01-31 00:00:00-05:00  1360.160034  1394.479980  1350.140015   \n",
      "1   2000-02-29 00:00:00-05:00  1348.050049  1369.630005  1348.050049   \n",
      "2   2000-03-31 00:00:00-05:00  1487.920044  1519.810059  1484.380005   \n",
      "3   2000-04-30 00:00:00-04:00  1464.920044  1473.619995  1448.150024   \n",
      "4   2000-05-31 00:00:00-04:00  1422.439941  1434.489990  1415.500000   \n",
      "..                        ...          ...          ...          ...   \n",
      "274 2022-11-30 00:00:00-05:00  3957.179932  4080.110107  3938.580078   \n",
      "275 2022-12-31 00:00:00-05:00  3829.060059  3839.850098  3800.340088   \n",
      "276 2023-01-31 00:00:00-05:00  4020.850098  4077.159912  4020.439941   \n",
      "277 2023-02-28 00:00:00-05:00  3977.189941  3997.500000  3968.979980   \n",
      "278 2023-03-31 00:00:00-04:00  4002.040039  4039.489990  3936.169922   \n",
      "\n",
      "           Close      Volume  Dividends  Stock Splits  Month  Year  \n",
      "0    1394.459961   993800000        0.0           0.0      1  2000  \n",
      "1    1366.420044  1204300000        0.0           0.0      2  2000  \n",
      "2    1498.579956  1227400000        0.0           0.0      3  2000  \n",
      "3    1452.430054   984600000        0.0           0.0      4  2000  \n",
      "4    1420.599976   960500000        0.0           0.0      5  2000  \n",
      "..           ...         ...        ...           ...    ...   ...  \n",
      "274  4080.110107  6579360000        0.0           0.0     11  2022  \n",
      "275  3839.500000  2979870000        0.0           0.0     12  2022  \n",
      "276  4076.600098  4679320000        0.0           0.0      1  2023  \n",
      "277  3970.149902  5043400000        0.0           0.0      2  2023  \n",
      "278  3936.969971  4533010000        0.0           0.0      3  2023  \n",
      "\n",
      "[279 rows x 10 columns]\n"
     ]
    }
   ],
   "source": [
    "# Re-muestrear el DataFrame para tener datos mensuales y la última observación del mes\n",
    "df_monthly = df.resample('M').last()\n",
    "df_monthly = df_monthly.reset_index()\n",
    "\n",
    "# Imprimir el DataFrame resultante\n",
    "print(df_monthly)\n"
   ]
  },
  {
   "cell_type": "code",
   "execution_count": 47,
   "metadata": {},
   "outputs": [],
   "source": [
    "df_monthly.to_csv(\"sp500_history_Meses.csv\", index=False)"
   ]
  },
  {
   "cell_type": "code",
   "execution_count": 1,
   "metadata": {},
   "outputs": [
    {
     "ename": "Exception",
     "evalue": "yfinance failed to decrypt Yahoo data response",
     "output_type": "error",
     "traceback": [
      "\u001b[1;31m---------------------------------------------------------------------------\u001b[0m",
      "\u001b[1;31mException\u001b[0m                                 Traceback (most recent call last)",
      "Cell \u001b[1;32mIn[1], line 5\u001b[0m\n\u001b[0;32m      3\u001b[0m tickerSymbol \u001b[39m=\u001b[39m \u001b[39m\"\u001b[39m\u001b[39m^GSPC\u001b[39m\u001b[39m\"\u001b[39m\n\u001b[0;32m      4\u001b[0m tickerData \u001b[39m=\u001b[39m yf\u001b[39m.\u001b[39mTicker(tickerSymbol)\n\u001b[1;32m----> 5\u001b[0m tickerInfo \u001b[39m=\u001b[39m tickerData\u001b[39m.\u001b[39;49minfo\n\u001b[0;32m      6\u001b[0m \u001b[39mprint\u001b[39m(tickerInfo[\u001b[39m'\u001b[39m\u001b[39mregularMarketPrice\u001b[39m\u001b[39m'\u001b[39m])\n",
      "File \u001b[1;32mc:\\Users\\kmilo\\AppData\\Local\\Programs\\Python\\Python310\\lib\\site-packages\\yfinance\\ticker.py:138\u001b[0m, in \u001b[0;36mTicker.info\u001b[1;34m(self)\u001b[0m\n\u001b[0;32m    136\u001b[0m \u001b[39m@property\u001b[39m\n\u001b[0;32m    137\u001b[0m \u001b[39mdef\u001b[39;00m \u001b[39minfo\u001b[39m(\u001b[39mself\u001b[39m) \u001b[39m-\u001b[39m\u001b[39m>\u001b[39m \u001b[39mdict\u001b[39m:\n\u001b[1;32m--> 138\u001b[0m     \u001b[39mreturn\u001b[39;00m \u001b[39mself\u001b[39;49m\u001b[39m.\u001b[39;49mget_info()\n",
      "File \u001b[1;32mc:\\Users\\kmilo\\AppData\\Local\\Programs\\Python\\Python310\\lib\\site-packages\\yfinance\\base.py:1475\u001b[0m, in \u001b[0;36mTickerBase.get_info\u001b[1;34m(self, proxy)\u001b[0m\n\u001b[0;32m   1473\u001b[0m \u001b[39mdef\u001b[39;00m \u001b[39mget_info\u001b[39m(\u001b[39mself\u001b[39m, proxy\u001b[39m=\u001b[39m\u001b[39mNone\u001b[39;00m) \u001b[39m-\u001b[39m\u001b[39m>\u001b[39m \u001b[39mdict\u001b[39m:\n\u001b[0;32m   1474\u001b[0m     \u001b[39mself\u001b[39m\u001b[39m.\u001b[39m_quote\u001b[39m.\u001b[39mproxy \u001b[39m=\u001b[39m proxy\n\u001b[1;32m-> 1475\u001b[0m     data \u001b[39m=\u001b[39m \u001b[39mself\u001b[39;49m\u001b[39m.\u001b[39;49m_quote\u001b[39m.\u001b[39;49minfo\n\u001b[0;32m   1476\u001b[0m     \u001b[39mreturn\u001b[39;00m data\n",
      "File \u001b[1;32mc:\\Users\\kmilo\\AppData\\Local\\Programs\\Python\\Python310\\lib\\site-packages\\yfinance\\scrapers\\quote.py:95\u001b[0m, in \u001b[0;36mQuote.info\u001b[1;34m(self)\u001b[0m\n\u001b[0;32m     92\u001b[0m \u001b[39m@property\u001b[39m\n\u001b[0;32m     93\u001b[0m \u001b[39mdef\u001b[39;00m \u001b[39minfo\u001b[39m(\u001b[39mself\u001b[39m) \u001b[39m-\u001b[39m\u001b[39m>\u001b[39m \u001b[39mdict\u001b[39m:\n\u001b[0;32m     94\u001b[0m     \u001b[39mif\u001b[39;00m \u001b[39mself\u001b[39m\u001b[39m.\u001b[39m_info \u001b[39mis\u001b[39;00m \u001b[39mNone\u001b[39;00m:\n\u001b[1;32m---> 95\u001b[0m         \u001b[39mself\u001b[39;49m\u001b[39m.\u001b[39;49m_scrape(\u001b[39mself\u001b[39;49m\u001b[39m.\u001b[39;49mproxy)\n\u001b[0;32m     96\u001b[0m         \u001b[39mself\u001b[39m\u001b[39m.\u001b[39m_scrape_complementary(\u001b[39mself\u001b[39m\u001b[39m.\u001b[39mproxy)\n\u001b[0;32m     98\u001b[0m     \u001b[39mreturn\u001b[39;00m \u001b[39mself\u001b[39m\u001b[39m.\u001b[39m_info\n",
      "File \u001b[1;32mc:\\Users\\kmilo\\AppData\\Local\\Programs\\Python\\Python310\\lib\\site-packages\\yfinance\\scrapers\\quote.py:124\u001b[0m, in \u001b[0;36mQuote._scrape\u001b[1;34m(self, proxy)\u001b[0m\n\u001b[0;32m    121\u001b[0m \u001b[39mself\u001b[39m\u001b[39m.\u001b[39m_already_scraped \u001b[39m=\u001b[39m \u001b[39mTrue\u001b[39;00m\n\u001b[0;32m    123\u001b[0m \u001b[39m# get info and sustainability\u001b[39;00m\n\u001b[1;32m--> 124\u001b[0m json_data \u001b[39m=\u001b[39m \u001b[39mself\u001b[39;49m\u001b[39m.\u001b[39;49m_data\u001b[39m.\u001b[39;49mget_json_data_stores(proxy\u001b[39m=\u001b[39;49mproxy)\n\u001b[0;32m    125\u001b[0m \u001b[39mtry\u001b[39;00m:\n\u001b[0;32m    126\u001b[0m     quote_summary_store \u001b[39m=\u001b[39m json_data[\u001b[39m'\u001b[39m\u001b[39mQuoteSummaryStore\u001b[39m\u001b[39m'\u001b[39m]\n",
      "File \u001b[1;32mc:\\Users\\kmilo\\AppData\\Local\\Programs\\Python\\Python310\\lib\\site-packages\\yfinance\\data.py:41\u001b[0m, in \u001b[0;36mlru_cache_freezeargs.<locals>.wrapped\u001b[1;34m(*args, **kwargs)\u001b[0m\n\u001b[0;32m     39\u001b[0m args \u001b[39m=\u001b[39m \u001b[39mtuple\u001b[39m([\u001b[39mtuple\u001b[39m(arg) \u001b[39mif\u001b[39;00m \u001b[39misinstance\u001b[39m(arg, \u001b[39mlist\u001b[39m) \u001b[39melse\u001b[39;00m arg \u001b[39mfor\u001b[39;00m arg \u001b[39min\u001b[39;00m args])\n\u001b[0;32m     40\u001b[0m kwargs \u001b[39m=\u001b[39m {k: \u001b[39mtuple\u001b[39m(v) \u001b[39mif\u001b[39;00m \u001b[39misinstance\u001b[39m(v, \u001b[39mlist\u001b[39m) \u001b[39melse\u001b[39;00m v \u001b[39mfor\u001b[39;00m k, v \u001b[39min\u001b[39;00m kwargs\u001b[39m.\u001b[39mitems()}\n\u001b[1;32m---> 41\u001b[0m \u001b[39mreturn\u001b[39;00m func(\u001b[39m*\u001b[39margs, \u001b[39m*\u001b[39m\u001b[39m*\u001b[39mkwargs)\n",
      "File \u001b[1;32mc:\\Users\\kmilo\\AppData\\Local\\Programs\\Python\\Python310\\lib\\site-packages\\yfinance\\data.py:311\u001b[0m, in \u001b[0;36mTickerData.get_json_data_stores\u001b[1;34m(self, sub_page, proxy)\u001b[0m\n\u001b[0;32m    308\u001b[0m     keys \u001b[39m+\u001b[39m\u001b[39m=\u001b[39m response_gh\u001b[39m.\u001b[39mtext\u001b[39m.\u001b[39msplitlines()\n\u001b[0;32m    310\u001b[0m \u001b[39m# Decrypt!\u001b[39;00m\n\u001b[1;32m--> 311\u001b[0m stores \u001b[39m=\u001b[39m decrypt_cryptojs_aes_stores(data, keys)\n\u001b[0;32m    312\u001b[0m \u001b[39mif\u001b[39;00m stores \u001b[39mis\u001b[39;00m \u001b[39mNone\u001b[39;00m:\n\u001b[0;32m    313\u001b[0m     \u001b[39m# Maybe Yahoo returned old format, not encrypted\u001b[39;00m\n\u001b[0;32m    314\u001b[0m     \u001b[39mif\u001b[39;00m \u001b[39m\"\u001b[39m\u001b[39mcontext\u001b[39m\u001b[39m\"\u001b[39m \u001b[39min\u001b[39;00m data \u001b[39mand\u001b[39;00m \u001b[39m\"\u001b[39m\u001b[39mdispatcher\u001b[39m\u001b[39m\"\u001b[39m \u001b[39min\u001b[39;00m data[\u001b[39m\"\u001b[39m\u001b[39mcontext\u001b[39m\u001b[39m\"\u001b[39m]:\n",
      "File \u001b[1;32mc:\\Users\\kmilo\\AppData\\Local\\Programs\\Python\\Python310\\lib\\site-packages\\yfinance\\data.py:162\u001b[0m, in \u001b[0;36mdecrypt_cryptojs_aes_stores\u001b[1;34m(data, keys)\u001b[0m\n\u001b[0;32m    160\u001b[0m             \u001b[39mpass\u001b[39;00m\n\u001b[0;32m    161\u001b[0m     \u001b[39mif\u001b[39;00m \u001b[39mnot\u001b[39;00m success:\n\u001b[1;32m--> 162\u001b[0m         \u001b[39mraise\u001b[39;00m \u001b[39mException\u001b[39;00m(\u001b[39m\"\u001b[39m\u001b[39myfinance failed to decrypt Yahoo data response\u001b[39m\u001b[39m\"\u001b[39m)\n\u001b[0;32m    164\u001b[0m decoded_stores \u001b[39m=\u001b[39m json\u001b[39m.\u001b[39mloads(plaintext)\n\u001b[0;32m    165\u001b[0m \u001b[39mreturn\u001b[39;00m decoded_stores\n",
      "\u001b[1;31mException\u001b[0m: yfinance failed to decrypt Yahoo data response"
     ]
    }
   ],
   "source": [
    "import yfinance as yf\n",
    "\n",
    "tickerSymbol = \"^GSPC\"\n",
    "tickerData = yf.Ticker(tickerSymbol)\n",
    "tickerInfo = tickerData.info\n",
    "print(tickerInfo['regularMarketPrice'])"
   ]
  },
  {
   "cell_type": "code",
   "execution_count": 14,
   "metadata": {},
   "outputs": [
    {
     "name": "stdout",
     "output_type": "stream",
     "text": [
      "  Last Price   Change  % Change\n",
      "0    98.1300  -0.5800  -0.5876%\n"
     ]
    }
   ],
   "source": [
    "import pandas as pd\n",
    "import requests\n",
    "\n",
    "# API key de Alpha Vantage\n",
    "api_key = \"G6W7IMMF8IEX42FY\"\n",
    "\n",
    "# Símbolo de la acción que queremos obtener\n",
    "symbol = \"AMZN\"\n",
    "\n",
    "# URL para obtener los datos de la acción\n",
    "url = f\"https://www.alphavantage.co/query?function=GLOBAL_QUOTE&symbol={symbol}&apikey={api_key}\"\n",
    "\n",
    "# Hacemos la petición HTTP GET\n",
    "response = requests.get(url)\n",
    "\n",
    "# Obtenemos los datos en formato JSON\n",
    "data = response.json()\n",
    "\n",
    "# Creamos un diccionario con los valores que queremos\n",
    "stock_info = {\n",
    "    \"Last Price\": data[\"Global Quote\"][\"05. price\"],\n",
    "    \"Change\": data[\"Global Quote\"][\"09. change\"],\n",
    "    \"% Change\": data[\"Global Quote\"][\"10. change percent\"]\n",
    "}\n",
    "\n",
    "# Creamos el DataFrame\n",
    "df = pd.DataFrame(stock_info, index=[0])\n",
    "\n",
    "print(df)\n",
    "\n"
   ]
  },
  {
   "cell_type": "code",
   "execution_count": 8,
   "metadata": {},
   "outputs": [
    {
     "ename": "Exception",
     "evalue": "yfinance failed to decrypt Yahoo data response",
     "output_type": "error",
     "traceback": [
      "\u001b[1;31m---------------------------------------------------------------------------\u001b[0m",
      "\u001b[1;31mException\u001b[0m                                 Traceback (most recent call last)",
      "Cell \u001b[1;32mIn[8], line 1\u001b[0m\n\u001b[1;32m----> 1\u001b[0m stock_info \u001b[39m=\u001b[39m get_stock_info(\u001b[39m\"\u001b[39;49m\u001b[39mAAPL\u001b[39;49m\u001b[39m\"\u001b[39;49m)\n\u001b[0;32m      2\u001b[0m \u001b[39mprint\u001b[39m(stock_info)\n",
      "Cell \u001b[1;32mIn[7], line 5\u001b[0m, in \u001b[0;36mget_stock_info\u001b[1;34m(symbol)\u001b[0m\n\u001b[0;32m      3\u001b[0m \u001b[39mdef\u001b[39;00m \u001b[39mget_stock_info\u001b[39m(symbol):\n\u001b[0;32m      4\u001b[0m     stock \u001b[39m=\u001b[39m yf\u001b[39m.\u001b[39mTicker(symbol)\n\u001b[1;32m----> 5\u001b[0m     stock_info \u001b[39m=\u001b[39m stock\u001b[39m.\u001b[39;49minfo\n\u001b[0;32m      6\u001b[0m     last_price \u001b[39m=\u001b[39m stock_info[\u001b[39m'\u001b[39m\u001b[39mregularMarketPrice\u001b[39m\u001b[39m'\u001b[39m]\n\u001b[0;32m      7\u001b[0m     change \u001b[39m=\u001b[39m stock_info[\u001b[39m'\u001b[39m\u001b[39mregularMarketChange\u001b[39m\u001b[39m'\u001b[39m]\n",
      "File \u001b[1;32mc:\\Users\\kmilo\\AppData\\Local\\Programs\\Python\\Python310\\lib\\site-packages\\yfinance\\ticker.py:138\u001b[0m, in \u001b[0;36mTicker.info\u001b[1;34m(self)\u001b[0m\n\u001b[0;32m    136\u001b[0m \u001b[39m@property\u001b[39m\n\u001b[0;32m    137\u001b[0m \u001b[39mdef\u001b[39;00m \u001b[39minfo\u001b[39m(\u001b[39mself\u001b[39m) \u001b[39m-\u001b[39m\u001b[39m>\u001b[39m \u001b[39mdict\u001b[39m:\n\u001b[1;32m--> 138\u001b[0m     \u001b[39mreturn\u001b[39;00m \u001b[39mself\u001b[39;49m\u001b[39m.\u001b[39;49mget_info()\n",
      "File \u001b[1;32mc:\\Users\\kmilo\\AppData\\Local\\Programs\\Python\\Python310\\lib\\site-packages\\yfinance\\base.py:1475\u001b[0m, in \u001b[0;36mTickerBase.get_info\u001b[1;34m(self, proxy)\u001b[0m\n\u001b[0;32m   1473\u001b[0m \u001b[39mdef\u001b[39;00m \u001b[39mget_info\u001b[39m(\u001b[39mself\u001b[39m, proxy\u001b[39m=\u001b[39m\u001b[39mNone\u001b[39;00m) \u001b[39m-\u001b[39m\u001b[39m>\u001b[39m \u001b[39mdict\u001b[39m:\n\u001b[0;32m   1474\u001b[0m     \u001b[39mself\u001b[39m\u001b[39m.\u001b[39m_quote\u001b[39m.\u001b[39mproxy \u001b[39m=\u001b[39m proxy\n\u001b[1;32m-> 1475\u001b[0m     data \u001b[39m=\u001b[39m \u001b[39mself\u001b[39;49m\u001b[39m.\u001b[39;49m_quote\u001b[39m.\u001b[39;49minfo\n\u001b[0;32m   1476\u001b[0m     \u001b[39mreturn\u001b[39;00m data\n",
      "File \u001b[1;32mc:\\Users\\kmilo\\AppData\\Local\\Programs\\Python\\Python310\\lib\\site-packages\\yfinance\\scrapers\\quote.py:95\u001b[0m, in \u001b[0;36mQuote.info\u001b[1;34m(self)\u001b[0m\n\u001b[0;32m     92\u001b[0m \u001b[39m@property\u001b[39m\n\u001b[0;32m     93\u001b[0m \u001b[39mdef\u001b[39;00m \u001b[39minfo\u001b[39m(\u001b[39mself\u001b[39m) \u001b[39m-\u001b[39m\u001b[39m>\u001b[39m \u001b[39mdict\u001b[39m:\n\u001b[0;32m     94\u001b[0m     \u001b[39mif\u001b[39;00m \u001b[39mself\u001b[39m\u001b[39m.\u001b[39m_info \u001b[39mis\u001b[39;00m \u001b[39mNone\u001b[39;00m:\n\u001b[1;32m---> 95\u001b[0m         \u001b[39mself\u001b[39;49m\u001b[39m.\u001b[39;49m_scrape(\u001b[39mself\u001b[39;49m\u001b[39m.\u001b[39;49mproxy)\n\u001b[0;32m     96\u001b[0m         \u001b[39mself\u001b[39m\u001b[39m.\u001b[39m_scrape_complementary(\u001b[39mself\u001b[39m\u001b[39m.\u001b[39mproxy)\n\u001b[0;32m     98\u001b[0m     \u001b[39mreturn\u001b[39;00m \u001b[39mself\u001b[39m\u001b[39m.\u001b[39m_info\n",
      "File \u001b[1;32mc:\\Users\\kmilo\\AppData\\Local\\Programs\\Python\\Python310\\lib\\site-packages\\yfinance\\scrapers\\quote.py:124\u001b[0m, in \u001b[0;36mQuote._scrape\u001b[1;34m(self, proxy)\u001b[0m\n\u001b[0;32m    121\u001b[0m \u001b[39mself\u001b[39m\u001b[39m.\u001b[39m_already_scraped \u001b[39m=\u001b[39m \u001b[39mTrue\u001b[39;00m\n\u001b[0;32m    123\u001b[0m \u001b[39m# get info and sustainability\u001b[39;00m\n\u001b[1;32m--> 124\u001b[0m json_data \u001b[39m=\u001b[39m \u001b[39mself\u001b[39;49m\u001b[39m.\u001b[39;49m_data\u001b[39m.\u001b[39;49mget_json_data_stores(proxy\u001b[39m=\u001b[39;49mproxy)\n\u001b[0;32m    125\u001b[0m \u001b[39mtry\u001b[39;00m:\n\u001b[0;32m    126\u001b[0m     quote_summary_store \u001b[39m=\u001b[39m json_data[\u001b[39m'\u001b[39m\u001b[39mQuoteSummaryStore\u001b[39m\u001b[39m'\u001b[39m]\n",
      "File \u001b[1;32mc:\\Users\\kmilo\\AppData\\Local\\Programs\\Python\\Python310\\lib\\site-packages\\yfinance\\data.py:41\u001b[0m, in \u001b[0;36mlru_cache_freezeargs.<locals>.wrapped\u001b[1;34m(*args, **kwargs)\u001b[0m\n\u001b[0;32m     39\u001b[0m args \u001b[39m=\u001b[39m \u001b[39mtuple\u001b[39m([\u001b[39mtuple\u001b[39m(arg) \u001b[39mif\u001b[39;00m \u001b[39misinstance\u001b[39m(arg, \u001b[39mlist\u001b[39m) \u001b[39melse\u001b[39;00m arg \u001b[39mfor\u001b[39;00m arg \u001b[39min\u001b[39;00m args])\n\u001b[0;32m     40\u001b[0m kwargs \u001b[39m=\u001b[39m {k: \u001b[39mtuple\u001b[39m(v) \u001b[39mif\u001b[39;00m \u001b[39misinstance\u001b[39m(v, \u001b[39mlist\u001b[39m) \u001b[39melse\u001b[39;00m v \u001b[39mfor\u001b[39;00m k, v \u001b[39min\u001b[39;00m kwargs\u001b[39m.\u001b[39mitems()}\n\u001b[1;32m---> 41\u001b[0m \u001b[39mreturn\u001b[39;00m func(\u001b[39m*\u001b[39margs, \u001b[39m*\u001b[39m\u001b[39m*\u001b[39mkwargs)\n",
      "File \u001b[1;32mc:\\Users\\kmilo\\AppData\\Local\\Programs\\Python\\Python310\\lib\\site-packages\\yfinance\\data.py:311\u001b[0m, in \u001b[0;36mTickerData.get_json_data_stores\u001b[1;34m(self, sub_page, proxy)\u001b[0m\n\u001b[0;32m    308\u001b[0m     keys \u001b[39m+\u001b[39m\u001b[39m=\u001b[39m response_gh\u001b[39m.\u001b[39mtext\u001b[39m.\u001b[39msplitlines()\n\u001b[0;32m    310\u001b[0m \u001b[39m# Decrypt!\u001b[39;00m\n\u001b[1;32m--> 311\u001b[0m stores \u001b[39m=\u001b[39m decrypt_cryptojs_aes_stores(data, keys)\n\u001b[0;32m    312\u001b[0m \u001b[39mif\u001b[39;00m stores \u001b[39mis\u001b[39;00m \u001b[39mNone\u001b[39;00m:\n\u001b[0;32m    313\u001b[0m     \u001b[39m# Maybe Yahoo returned old format, not encrypted\u001b[39;00m\n\u001b[0;32m    314\u001b[0m     \u001b[39mif\u001b[39;00m \u001b[39m\"\u001b[39m\u001b[39mcontext\u001b[39m\u001b[39m\"\u001b[39m \u001b[39min\u001b[39;00m data \u001b[39mand\u001b[39;00m \u001b[39m\"\u001b[39m\u001b[39mdispatcher\u001b[39m\u001b[39m\"\u001b[39m \u001b[39min\u001b[39;00m data[\u001b[39m\"\u001b[39m\u001b[39mcontext\u001b[39m\u001b[39m\"\u001b[39m]:\n",
      "File \u001b[1;32mc:\\Users\\kmilo\\AppData\\Local\\Programs\\Python\\Python310\\lib\\site-packages\\yfinance\\data.py:162\u001b[0m, in \u001b[0;36mdecrypt_cryptojs_aes_stores\u001b[1;34m(data, keys)\u001b[0m\n\u001b[0;32m    160\u001b[0m             \u001b[39mpass\u001b[39;00m\n\u001b[0;32m    161\u001b[0m     \u001b[39mif\u001b[39;00m \u001b[39mnot\u001b[39;00m success:\n\u001b[1;32m--> 162\u001b[0m         \u001b[39mraise\u001b[39;00m \u001b[39mException\u001b[39;00m(\u001b[39m\"\u001b[39m\u001b[39myfinance failed to decrypt Yahoo data response\u001b[39m\u001b[39m\"\u001b[39m)\n\u001b[0;32m    164\u001b[0m decoded_stores \u001b[39m=\u001b[39m json\u001b[39m.\u001b[39mloads(plaintext)\n\u001b[0;32m    165\u001b[0m \u001b[39mreturn\u001b[39;00m decoded_stores\n",
      "\u001b[1;31mException\u001b[0m: yfinance failed to decrypt Yahoo data response"
     ]
    }
   ],
   "source": [
    "stock_info = get_stock_info(\"AAPL\")\n",
    "print(stock_info)"
   ]
  }
 ],
 "metadata": {
  "kernelspec": {
   "display_name": "base",
   "language": "python",
   "name": "python3"
  },
  "language_info": {
   "codemirror_mode": {
    "name": "ipython",
    "version": 3
   },
   "file_extension": ".py",
   "mimetype": "text/x-python",
   "name": "python",
   "nbconvert_exporter": "python",
   "pygments_lexer": "ipython3",
   "version": "3.10.10"
  },
  "orig_nbformat": 4
 },
 "nbformat": 4,
 "nbformat_minor": 2
}
