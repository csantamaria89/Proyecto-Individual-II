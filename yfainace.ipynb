{
 "cells": [
  {
   "cell_type": "code",
   "execution_count": 31,
   "metadata": {},
   "outputs": [],
   "source": [
    "import pandas as pd\n",
    "import yfinance as yf\n",
    "import datetime"
   ]
  },
  {
   "attachments": {},
   "cell_type": "markdown",
   "metadata": {},
   "source": [
    "Con el siguiente código se puede estudiar el valor de cierre de cada acción dureante el periodo máximo de la misma."
   ]
  },
  {
   "cell_type": "code",
   "execution_count": 4,
   "metadata": {},
   "outputs": [
    {
     "data": {
      "text/html": [
       "<div>\n",
       "<style scoped>\n",
       "    .dataframe tbody tr th:only-of-type {\n",
       "        vertical-align: middle;\n",
       "    }\n",
       "\n",
       "    .dataframe tbody tr th {\n",
       "        vertical-align: top;\n",
       "    }\n",
       "\n",
       "    .dataframe thead th {\n",
       "        text-align: right;\n",
       "    }\n",
       "</style>\n",
       "<table border=\"1\" class=\"dataframe\">\n",
       "  <thead>\n",
       "    <tr style=\"text-align: right;\">\n",
       "      <th></th>\n",
       "      <th>AMZN</th>\n",
       "      <th>AAPL</th>\n",
       "      <th>INTC</th>\n",
       "      <th>MSFT</th>\n",
       "      <th>NFLX</th>\n",
       "    </tr>\n",
       "    <tr>\n",
       "      <th>Date</th>\n",
       "      <th></th>\n",
       "      <th></th>\n",
       "      <th></th>\n",
       "      <th></th>\n",
       "      <th></th>\n",
       "    </tr>\n",
       "  </thead>\n",
       "  <tbody>\n",
       "    <tr>\n",
       "      <th>1980-03-17 00:00:00-05:00</th>\n",
       "      <td>NaN</td>\n",
       "      <td>NaN</td>\n",
       "      <td>0.185958</td>\n",
       "      <td>NaN</td>\n",
       "      <td>NaN</td>\n",
       "    </tr>\n",
       "    <tr>\n",
       "      <th>1980-03-18 00:00:00-05:00</th>\n",
       "      <td>NaN</td>\n",
       "      <td>NaN</td>\n",
       "      <td>0.184470</td>\n",
       "      <td>NaN</td>\n",
       "      <td>NaN</td>\n",
       "    </tr>\n",
       "    <tr>\n",
       "      <th>1980-03-19 00:00:00-05:00</th>\n",
       "      <td>NaN</td>\n",
       "      <td>NaN</td>\n",
       "      <td>0.188933</td>\n",
       "      <td>NaN</td>\n",
       "      <td>NaN</td>\n",
       "    </tr>\n",
       "    <tr>\n",
       "      <th>1980-03-20 00:00:00-05:00</th>\n",
       "      <td>NaN</td>\n",
       "      <td>NaN</td>\n",
       "      <td>0.188189</td>\n",
       "      <td>NaN</td>\n",
       "      <td>NaN</td>\n",
       "    </tr>\n",
       "    <tr>\n",
       "      <th>1980-03-21 00:00:00-05:00</th>\n",
       "      <td>NaN</td>\n",
       "      <td>NaN</td>\n",
       "      <td>0.181494</td>\n",
       "      <td>NaN</td>\n",
       "      <td>NaN</td>\n",
       "    </tr>\n",
       "    <tr>\n",
       "      <th>...</th>\n",
       "      <td>...</td>\n",
       "      <td>...</td>\n",
       "      <td>...</td>\n",
       "      <td>...</td>\n",
       "      <td>...</td>\n",
       "    </tr>\n",
       "    <tr>\n",
       "      <th>2023-03-20 00:00:00-04:00</th>\n",
       "      <td>97.709999</td>\n",
       "      <td>157.399994</td>\n",
       "      <td>29.160000</td>\n",
       "      <td>272.230011</td>\n",
       "      <td>305.130005</td>\n",
       "    </tr>\n",
       "    <tr>\n",
       "      <th>2023-03-21 00:00:00-04:00</th>\n",
       "      <td>100.610001</td>\n",
       "      <td>159.279999</td>\n",
       "      <td>28.459999</td>\n",
       "      <td>273.779999</td>\n",
       "      <td>305.790009</td>\n",
       "    </tr>\n",
       "    <tr>\n",
       "      <th>2023-03-22 00:00:00-04:00</th>\n",
       "      <td>98.699997</td>\n",
       "      <td>157.830002</td>\n",
       "      <td>28.129999</td>\n",
       "      <td>272.290009</td>\n",
       "      <td>293.899994</td>\n",
       "    </tr>\n",
       "    <tr>\n",
       "      <th>2023-03-23 00:00:00-04:00</th>\n",
       "      <td>98.709999</td>\n",
       "      <td>158.929993</td>\n",
       "      <td>29.030001</td>\n",
       "      <td>277.660004</td>\n",
       "      <td>320.369995</td>\n",
       "    </tr>\n",
       "    <tr>\n",
       "      <th>2023-03-24 00:00:00-04:00</th>\n",
       "      <td>98.129997</td>\n",
       "      <td>160.250000</td>\n",
       "      <td>29.360001</td>\n",
       "      <td>280.570007</td>\n",
       "      <td>328.390015</td>\n",
       "    </tr>\n",
       "  </tbody>\n",
       "</table>\n",
       "<p>10848 rows × 5 columns</p>\n",
       "</div>"
      ],
      "text/plain": [
       "                                 AMZN        AAPL       INTC        MSFT  \\\n",
       "Date                                                                       \n",
       "1980-03-17 00:00:00-05:00         NaN         NaN   0.185958         NaN   \n",
       "1980-03-18 00:00:00-05:00         NaN         NaN   0.184470         NaN   \n",
       "1980-03-19 00:00:00-05:00         NaN         NaN   0.188933         NaN   \n",
       "1980-03-20 00:00:00-05:00         NaN         NaN   0.188189         NaN   \n",
       "1980-03-21 00:00:00-05:00         NaN         NaN   0.181494         NaN   \n",
       "...                               ...         ...        ...         ...   \n",
       "2023-03-20 00:00:00-04:00   97.709999  157.399994  29.160000  272.230011   \n",
       "2023-03-21 00:00:00-04:00  100.610001  159.279999  28.459999  273.779999   \n",
       "2023-03-22 00:00:00-04:00   98.699997  157.830002  28.129999  272.290009   \n",
       "2023-03-23 00:00:00-04:00   98.709999  158.929993  29.030001  277.660004   \n",
       "2023-03-24 00:00:00-04:00   98.129997  160.250000  29.360001  280.570007   \n",
       "\n",
       "                                 NFLX  \n",
       "Date                                   \n",
       "1980-03-17 00:00:00-05:00         NaN  \n",
       "1980-03-18 00:00:00-05:00         NaN  \n",
       "1980-03-19 00:00:00-05:00         NaN  \n",
       "1980-03-20 00:00:00-05:00         NaN  \n",
       "1980-03-21 00:00:00-05:00         NaN  \n",
       "...                               ...  \n",
       "2023-03-20 00:00:00-04:00  305.130005  \n",
       "2023-03-21 00:00:00-04:00  305.790009  \n",
       "2023-03-22 00:00:00-04:00  293.899994  \n",
       "2023-03-23 00:00:00-04:00  320.369995  \n",
       "2023-03-24 00:00:00-04:00  328.390015  \n",
       "\n",
       "[10848 rows x 5 columns]"
      ]
     },
     "execution_count": 4,
     "metadata": {},
     "output_type": "execute_result"
    }
   ],
   "source": [
    "empresas = ['AMZN','AAPL','INTC','MSFT','NFLX']\n",
    "\n",
    "recolector =[]\n",
    "for nemo in empresas:\n",
    "    ticker =yf.Ticker(nemo)\n",
    "    px = ticker.history(period='max')['Close']\n",
    "    px.name = nemo\n",
    "\n",
    "    recolector += [px]\n",
    "\n",
    "precios = pd.concat(recolector, axis=1)\n",
    "\n",
    "precios"
   ]
  },
  {
   "cell_type": "code",
   "execution_count": 5,
   "metadata": {},
   "outputs": [],
   "source": [
    "# Reseteamos el index para que el campo Date lo tome como una columna en el DF\n",
    "precios = precios.reset_index()"
   ]
  },
  {
   "cell_type": "code",
   "execution_count": 11,
   "metadata": {},
   "outputs": [
    {
     "data": {
      "text/html": [
       "<div>\n",
       "<style scoped>\n",
       "    .dataframe tbody tr th:only-of-type {\n",
       "        vertical-align: middle;\n",
       "    }\n",
       "\n",
       "    .dataframe tbody tr th {\n",
       "        vertical-align: top;\n",
       "    }\n",
       "\n",
       "    .dataframe thead th {\n",
       "        text-align: right;\n",
       "    }\n",
       "</style>\n",
       "<table border=\"1\" class=\"dataframe\">\n",
       "  <thead>\n",
       "    <tr style=\"text-align: right;\">\n",
       "      <th></th>\n",
       "      <th>Date</th>\n",
       "      <th>AMZN</th>\n",
       "      <th>AAPL</th>\n",
       "      <th>INTC</th>\n",
       "      <th>MSFT</th>\n",
       "      <th>NFLX</th>\n",
       "    </tr>\n",
       "  </thead>\n",
       "  <tbody>\n",
       "    <tr>\n",
       "      <th>0</th>\n",
       "      <td>1980-03-17 00:00:00-05:00</td>\n",
       "      <td>NaN</td>\n",
       "      <td>NaN</td>\n",
       "      <td>0.185958</td>\n",
       "      <td>NaN</td>\n",
       "      <td>NaN</td>\n",
       "    </tr>\n",
       "    <tr>\n",
       "      <th>1</th>\n",
       "      <td>1980-03-18 00:00:00-05:00</td>\n",
       "      <td>NaN</td>\n",
       "      <td>NaN</td>\n",
       "      <td>0.184470</td>\n",
       "      <td>NaN</td>\n",
       "      <td>NaN</td>\n",
       "    </tr>\n",
       "    <tr>\n",
       "      <th>2</th>\n",
       "      <td>1980-03-19 00:00:00-05:00</td>\n",
       "      <td>NaN</td>\n",
       "      <td>NaN</td>\n",
       "      <td>0.188933</td>\n",
       "      <td>NaN</td>\n",
       "      <td>NaN</td>\n",
       "    </tr>\n",
       "    <tr>\n",
       "      <th>3</th>\n",
       "      <td>1980-03-20 00:00:00-05:00</td>\n",
       "      <td>NaN</td>\n",
       "      <td>NaN</td>\n",
       "      <td>0.188189</td>\n",
       "      <td>NaN</td>\n",
       "      <td>NaN</td>\n",
       "    </tr>\n",
       "    <tr>\n",
       "      <th>4</th>\n",
       "      <td>1980-03-21 00:00:00-05:00</td>\n",
       "      <td>NaN</td>\n",
       "      <td>NaN</td>\n",
       "      <td>0.181494</td>\n",
       "      <td>NaN</td>\n",
       "      <td>NaN</td>\n",
       "    </tr>\n",
       "  </tbody>\n",
       "</table>\n",
       "</div>"
      ],
      "text/plain": [
       "                       Date  AMZN  AAPL      INTC  MSFT  NFLX\n",
       "0 1980-03-17 00:00:00-05:00   NaN   NaN  0.185958   NaN   NaN\n",
       "1 1980-03-18 00:00:00-05:00   NaN   NaN  0.184470   NaN   NaN\n",
       "2 1980-03-19 00:00:00-05:00   NaN   NaN  0.188933   NaN   NaN\n",
       "3 1980-03-20 00:00:00-05:00   NaN   NaN  0.188189   NaN   NaN\n",
       "4 1980-03-21 00:00:00-05:00   NaN   NaN  0.181494   NaN   NaN"
      ]
     },
     "execution_count": 11,
     "metadata": {},
     "output_type": "execute_result"
    }
   ],
   "source": [
    "precios.head()"
   ]
  },
  {
   "cell_type": "code",
   "execution_count": 6,
   "metadata": {},
   "outputs": [],
   "source": [
    "precios.to_csv(\"sp500_5Empresas.csv\", index=False)"
   ]
  },
  {
   "cell_type": "code",
   "execution_count": 20,
   "metadata": {},
   "outputs": [],
   "source": [
    "# Crear una lista con los símbolos por cada acción\n",
    "#symbols = ['AMZN', 'AAPL', 'INTC', 'MSFT', 'NFLX']\n",
    "symbols = ['AMZN']"
   ]
  },
  {
   "cell_type": "code",
   "execution_count": 21,
   "metadata": {},
   "outputs": [],
   "source": [
    "# Establecer la fecha de inicio como hace 23 años\n",
    "start_date = datetime.datetime.now() - datetime.timedelta(days=23*365)\n",
    "start_date = start_date.strftime('%Y-%m-%d')"
   ]
  },
  {
   "cell_type": "code",
   "execution_count": 22,
   "metadata": {},
   "outputs": [],
   "source": [
    "# Establecer la fecha final como la fecha actual\n",
    "end_date = datetime.datetime.now().strftime('%Y-%m-%d')"
   ]
  },
  {
   "cell_type": "code",
   "execution_count": 23,
   "metadata": {},
   "outputs": [
    {
     "name": "stdout",
     "output_type": "stream",
     "text": [
      "[*********************100%***********************]  1 of 1 completed\n"
     ]
    }
   ],
   "source": [
    "# Descargar los datos utilizando el método download()\n",
    "data = yf.download(tickers=symbols, start=start_date, end=end_date, interval=\"1d\")"
   ]
  },
  {
   "cell_type": "code",
   "execution_count": 26,
   "metadata": {},
   "outputs": [],
   "source": [
    "df = pd.concat([data], axis=1)"
   ]
  },
  {
   "cell_type": "code",
   "execution_count": 27,
   "metadata": {},
   "outputs": [
    {
     "data": {
      "text/html": [
       "<div>\n",
       "<style scoped>\n",
       "    .dataframe tbody tr th:only-of-type {\n",
       "        vertical-align: middle;\n",
       "    }\n",
       "\n",
       "    .dataframe tbody tr th {\n",
       "        vertical-align: top;\n",
       "    }\n",
       "\n",
       "    .dataframe thead th {\n",
       "        text-align: right;\n",
       "    }\n",
       "</style>\n",
       "<table border=\"1\" class=\"dataframe\">\n",
       "  <thead>\n",
       "    <tr style=\"text-align: right;\">\n",
       "      <th></th>\n",
       "      <th>Open</th>\n",
       "      <th>High</th>\n",
       "      <th>Low</th>\n",
       "      <th>Close</th>\n",
       "      <th>Adj Close</th>\n",
       "      <th>Volume</th>\n",
       "    </tr>\n",
       "    <tr>\n",
       "      <th>Date</th>\n",
       "      <th></th>\n",
       "      <th></th>\n",
       "      <th></th>\n",
       "      <th></th>\n",
       "      <th></th>\n",
       "      <th></th>\n",
       "    </tr>\n",
       "  </thead>\n",
       "  <tbody>\n",
       "    <tr>\n",
       "      <th>2000-03-31</th>\n",
       "      <td>3.337500</td>\n",
       "      <td>3.356250</td>\n",
       "      <td>3.15000</td>\n",
       "      <td>3.350000</td>\n",
       "      <td>3.350000</td>\n",
       "      <td>102310000</td>\n",
       "    </tr>\n",
       "    <tr>\n",
       "      <th>2000-04-03</th>\n",
       "      <td>3.271875</td>\n",
       "      <td>3.284375</td>\n",
       "      <td>3.10000</td>\n",
       "      <td>3.178125</td>\n",
       "      <td>3.178125</td>\n",
       "      <td>97308000</td>\n",
       "    </tr>\n",
       "    <tr>\n",
       "      <th>2000-04-04</th>\n",
       "      <td>3.143750</td>\n",
       "      <td>3.271875</td>\n",
       "      <td>2.78750</td>\n",
       "      <td>3.196875</td>\n",
       "      <td>3.196875</td>\n",
       "      <td>286360000</td>\n",
       "    </tr>\n",
       "    <tr>\n",
       "      <th>2000-04-05</th>\n",
       "      <td>3.087500</td>\n",
       "      <td>3.246875</td>\n",
       "      <td>3.02500</td>\n",
       "      <td>3.109375</td>\n",
       "      <td>3.109375</td>\n",
       "      <td>98000000</td>\n",
       "    </tr>\n",
       "    <tr>\n",
       "      <th>2000-04-06</th>\n",
       "      <td>3.171875</td>\n",
       "      <td>3.275000</td>\n",
       "      <td>3.09375</td>\n",
       "      <td>3.212500</td>\n",
       "      <td>3.212500</td>\n",
       "      <td>120654000</td>\n",
       "    </tr>\n",
       "  </tbody>\n",
       "</table>\n",
       "</div>"
      ],
      "text/plain": [
       "                Open      High      Low     Close  Adj Close     Volume\n",
       "Date                                                                   \n",
       "2000-03-31  3.337500  3.356250  3.15000  3.350000   3.350000  102310000\n",
       "2000-04-03  3.271875  3.284375  3.10000  3.178125   3.178125   97308000\n",
       "2000-04-04  3.143750  3.271875  2.78750  3.196875   3.196875  286360000\n",
       "2000-04-05  3.087500  3.246875  3.02500  3.109375   3.109375   98000000\n",
       "2000-04-06  3.171875  3.275000  3.09375  3.212500   3.212500  120654000"
      ]
     },
     "execution_count": 27,
     "metadata": {},
     "output_type": "execute_result"
    }
   ],
   "source": [
    "df.head()"
   ]
  },
  {
   "cell_type": "code",
   "execution_count": 28,
   "metadata": {},
   "outputs": [],
   "source": [
    "df = df.reset_index()"
   ]
  },
  {
   "cell_type": "code",
   "execution_count": 29,
   "metadata": {},
   "outputs": [
    {
     "data": {
      "text/html": [
       "<div>\n",
       "<style scoped>\n",
       "    .dataframe tbody tr th:only-of-type {\n",
       "        vertical-align: middle;\n",
       "    }\n",
       "\n",
       "    .dataframe tbody tr th {\n",
       "        vertical-align: top;\n",
       "    }\n",
       "\n",
       "    .dataframe thead th {\n",
       "        text-align: right;\n",
       "    }\n",
       "</style>\n",
       "<table border=\"1\" class=\"dataframe\">\n",
       "  <thead>\n",
       "    <tr style=\"text-align: right;\">\n",
       "      <th></th>\n",
       "      <th>Date</th>\n",
       "      <th>Open</th>\n",
       "      <th>High</th>\n",
       "      <th>Low</th>\n",
       "      <th>Close</th>\n",
       "      <th>Adj Close</th>\n",
       "      <th>Volume</th>\n",
       "    </tr>\n",
       "  </thead>\n",
       "  <tbody>\n",
       "    <tr>\n",
       "      <th>0</th>\n",
       "      <td>2000-03-31</td>\n",
       "      <td>3.337500</td>\n",
       "      <td>3.356250</td>\n",
       "      <td>3.15000</td>\n",
       "      <td>3.350000</td>\n",
       "      <td>3.350000</td>\n",
       "      <td>102310000</td>\n",
       "    </tr>\n",
       "    <tr>\n",
       "      <th>1</th>\n",
       "      <td>2000-04-03</td>\n",
       "      <td>3.271875</td>\n",
       "      <td>3.284375</td>\n",
       "      <td>3.10000</td>\n",
       "      <td>3.178125</td>\n",
       "      <td>3.178125</td>\n",
       "      <td>97308000</td>\n",
       "    </tr>\n",
       "    <tr>\n",
       "      <th>2</th>\n",
       "      <td>2000-04-04</td>\n",
       "      <td>3.143750</td>\n",
       "      <td>3.271875</td>\n",
       "      <td>2.78750</td>\n",
       "      <td>3.196875</td>\n",
       "      <td>3.196875</td>\n",
       "      <td>286360000</td>\n",
       "    </tr>\n",
       "    <tr>\n",
       "      <th>3</th>\n",
       "      <td>2000-04-05</td>\n",
       "      <td>3.087500</td>\n",
       "      <td>3.246875</td>\n",
       "      <td>3.02500</td>\n",
       "      <td>3.109375</td>\n",
       "      <td>3.109375</td>\n",
       "      <td>98000000</td>\n",
       "    </tr>\n",
       "    <tr>\n",
       "      <th>4</th>\n",
       "      <td>2000-04-06</td>\n",
       "      <td>3.171875</td>\n",
       "      <td>3.275000</td>\n",
       "      <td>3.09375</td>\n",
       "      <td>3.212500</td>\n",
       "      <td>3.212500</td>\n",
       "      <td>120654000</td>\n",
       "    </tr>\n",
       "  </tbody>\n",
       "</table>\n",
       "</div>"
      ],
      "text/plain": [
       "        Date      Open      High      Low     Close  Adj Close     Volume\n",
       "0 2000-03-31  3.337500  3.356250  3.15000  3.350000   3.350000  102310000\n",
       "1 2000-04-03  3.271875  3.284375  3.10000  3.178125   3.178125   97308000\n",
       "2 2000-04-04  3.143750  3.271875  2.78750  3.196875   3.196875  286360000\n",
       "3 2000-04-05  3.087500  3.246875  3.02500  3.109375   3.109375   98000000\n",
       "4 2000-04-06  3.171875  3.275000  3.09375  3.212500   3.212500  120654000"
      ]
     },
     "execution_count": 29,
     "metadata": {},
     "output_type": "execute_result"
    }
   ],
   "source": [
    "df.head()"
   ]
  },
  {
   "cell_type": "code",
   "execution_count": 30,
   "metadata": {},
   "outputs": [],
   "source": [
    "df.to_csv(\"Amazon.csv\", index=False)"
   ]
  },
  {
   "attachments": {},
   "cell_type": "markdown",
   "metadata": {},
   "source": [
    "Haremos lo mismo para lás demás compañías."
   ]
  },
  {
   "cell_type": "code",
   "execution_count": 32,
   "metadata": {},
   "outputs": [
    {
     "name": "stdout",
     "output_type": "stream",
     "text": [
      "[*********************100%***********************]  1 of 1 completed\n"
     ]
    }
   ],
   "source": [
    "symbols = ['AAPL']\n",
    "# Establecer la fecha de inicio como hace 23 años\n",
    "start_date = datetime.datetime.now() - datetime.timedelta(days=23*365)\n",
    "start_date = start_date.strftime('%Y-%m-%d')\n",
    "# Establecer la fecha final como la fecha actual\n",
    "end_date = datetime.datetime.now().strftime('%Y-%m-%d')\n",
    "# Descargar los datos utilizando el método download()\n",
    "data = yf.download(tickers=symbols, start=start_date, end=end_date, interval=\"1d\")\n",
    "df = pd.concat([data], axis=1)\n",
    "df = df.reset_index()\n",
    "df.to_csv(\"Apple.csv\", index=False)"
   ]
  },
  {
   "cell_type": "code",
   "execution_count": 33,
   "metadata": {},
   "outputs": [
    {
     "name": "stdout",
     "output_type": "stream",
     "text": [
      "[*********************100%***********************]  1 of 1 completed\n"
     ]
    }
   ],
   "source": [
    "symbols = ['INTC']\n",
    "# Establecer la fecha de inicio como hace 23 años\n",
    "start_date = datetime.datetime.now() - datetime.timedelta(days=23*365)\n",
    "start_date = start_date.strftime('%Y-%m-%d')\n",
    "# Establecer la fecha final como la fecha actual\n",
    "end_date = datetime.datetime.now().strftime('%Y-%m-%d')\n",
    "# Descargar los datos utilizando el método download()\n",
    "data = yf.download(tickers=symbols, start=start_date, end=end_date, interval=\"1d\")\n",
    "df = pd.concat([data], axis=1)\n",
    "df = df.reset_index()\n",
    "df.to_csv(\"IntelInc.csv\", index=False)"
   ]
  },
  {
   "cell_type": "code",
   "execution_count": 34,
   "metadata": {},
   "outputs": [
    {
     "name": "stdout",
     "output_type": "stream",
     "text": [
      "[*********************100%***********************]  1 of 1 completed\n"
     ]
    }
   ],
   "source": [
    "symbols = ['MSFT']\n",
    "# Establecer la fecha de inicio como hace 23 años\n",
    "start_date = datetime.datetime.now() - datetime.timedelta(days=23*365)\n",
    "start_date = start_date.strftime('%Y-%m-%d')\n",
    "# Establecer la fecha final como la fecha actual\n",
    "end_date = datetime.datetime.now().strftime('%Y-%m-%d')\n",
    "# Descargar los datos utilizando el método download()\n",
    "data = yf.download(tickers=symbols, start=start_date, end=end_date, interval=\"1d\")\n",
    "df = pd.concat([data], axis=1)\n",
    "df = df.reset_index()\n",
    "df.to_csv(\"Microsoft.csv\", index=False)"
   ]
  },
  {
   "cell_type": "code",
   "execution_count": 35,
   "metadata": {},
   "outputs": [
    {
     "name": "stdout",
     "output_type": "stream",
     "text": [
      "[*********************100%***********************]  1 of 1 completed\n"
     ]
    }
   ],
   "source": [
    "symbols = ['NFLX']\n",
    "# Establecer la fecha de inicio como hace 23 años\n",
    "start_date = datetime.datetime.now() - datetime.timedelta(days=23*365)\n",
    "start_date = start_date.strftime('%Y-%m-%d')\n",
    "# Establecer la fecha final como la fecha actual\n",
    "end_date = datetime.datetime.now().strftime('%Y-%m-%d')\n",
    "# Descargar los datos utilizando el método download()\n",
    "data = yf.download(tickers=symbols, start=start_date, end=end_date, interval=\"1d\")\n",
    "df = pd.concat([data], axis=1)\n",
    "df = df.reset_index()\n",
    "df.to_csv(\"Netflix.csv\", index=False)"
   ]
  }
 ],
 "metadata": {
  "kernelspec": {
   "display_name": "base",
   "language": "python",
   "name": "python3"
  },
  "language_info": {
   "codemirror_mode": {
    "name": "ipython",
    "version": 3
   },
   "file_extension": ".py",
   "mimetype": "text/x-python",
   "name": "python",
   "nbconvert_exporter": "python",
   "pygments_lexer": "ipython3",
   "version": "3.9.16"
  },
  "orig_nbformat": 4
 },
 "nbformat": 4,
 "nbformat_minor": 2
}
