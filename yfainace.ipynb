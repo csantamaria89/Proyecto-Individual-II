{
 "cells": [
  {
   "cell_type": "code",
   "execution_count": 25,
   "metadata": {},
   "outputs": [],
   "source": [
    "import pandas as pd\n",
    "import yfinance as yf\n",
    "import datetime\n",
    "import numpy as np\n",
    "import matplotlib.pyplot as plt"
   ]
  },
  {
   "attachments": {},
   "cell_type": "markdown",
   "metadata": {},
   "source": [
    "Con el siguiente código se puede estudiar el valor de cierre de cada acción dureante el periodo máximo de la misma."
   ]
  },
  {
   "cell_type": "code",
   "execution_count": 4,
   "metadata": {},
   "outputs": [
    {
     "data": {
      "text/html": [
       "<div>\n",
       "<style scoped>\n",
       "    .dataframe tbody tr th:only-of-type {\n",
       "        vertical-align: middle;\n",
       "    }\n",
       "\n",
       "    .dataframe tbody tr th {\n",
       "        vertical-align: top;\n",
       "    }\n",
       "\n",
       "    .dataframe thead th {\n",
       "        text-align: right;\n",
       "    }\n",
       "</style>\n",
       "<table border=\"1\" class=\"dataframe\">\n",
       "  <thead>\n",
       "    <tr style=\"text-align: right;\">\n",
       "      <th></th>\n",
       "      <th>AMZN</th>\n",
       "      <th>AAPL</th>\n",
       "      <th>INTC</th>\n",
       "      <th>MSFT</th>\n",
       "      <th>NFLX</th>\n",
       "    </tr>\n",
       "    <tr>\n",
       "      <th>Date</th>\n",
       "      <th></th>\n",
       "      <th></th>\n",
       "      <th></th>\n",
       "      <th></th>\n",
       "      <th></th>\n",
       "    </tr>\n",
       "  </thead>\n",
       "  <tbody>\n",
       "    <tr>\n",
       "      <th>1980-03-17 00:00:00-05:00</th>\n",
       "      <td>NaN</td>\n",
       "      <td>NaN</td>\n",
       "      <td>0.185958</td>\n",
       "      <td>NaN</td>\n",
       "      <td>NaN</td>\n",
       "    </tr>\n",
       "    <tr>\n",
       "      <th>1980-03-18 00:00:00-05:00</th>\n",
       "      <td>NaN</td>\n",
       "      <td>NaN</td>\n",
       "      <td>0.184470</td>\n",
       "      <td>NaN</td>\n",
       "      <td>NaN</td>\n",
       "    </tr>\n",
       "    <tr>\n",
       "      <th>1980-03-19 00:00:00-05:00</th>\n",
       "      <td>NaN</td>\n",
       "      <td>NaN</td>\n",
       "      <td>0.188933</td>\n",
       "      <td>NaN</td>\n",
       "      <td>NaN</td>\n",
       "    </tr>\n",
       "    <tr>\n",
       "      <th>1980-03-20 00:00:00-05:00</th>\n",
       "      <td>NaN</td>\n",
       "      <td>NaN</td>\n",
       "      <td>0.188189</td>\n",
       "      <td>NaN</td>\n",
       "      <td>NaN</td>\n",
       "    </tr>\n",
       "    <tr>\n",
       "      <th>1980-03-21 00:00:00-05:00</th>\n",
       "      <td>NaN</td>\n",
       "      <td>NaN</td>\n",
       "      <td>0.181494</td>\n",
       "      <td>NaN</td>\n",
       "      <td>NaN</td>\n",
       "    </tr>\n",
       "    <tr>\n",
       "      <th>...</th>\n",
       "      <td>...</td>\n",
       "      <td>...</td>\n",
       "      <td>...</td>\n",
       "      <td>...</td>\n",
       "      <td>...</td>\n",
       "    </tr>\n",
       "    <tr>\n",
       "      <th>2023-03-20 00:00:00-04:00</th>\n",
       "      <td>97.709999</td>\n",
       "      <td>157.399994</td>\n",
       "      <td>29.160000</td>\n",
       "      <td>272.230011</td>\n",
       "      <td>305.130005</td>\n",
       "    </tr>\n",
       "    <tr>\n",
       "      <th>2023-03-21 00:00:00-04:00</th>\n",
       "      <td>100.610001</td>\n",
       "      <td>159.279999</td>\n",
       "      <td>28.459999</td>\n",
       "      <td>273.779999</td>\n",
       "      <td>305.790009</td>\n",
       "    </tr>\n",
       "    <tr>\n",
       "      <th>2023-03-22 00:00:00-04:00</th>\n",
       "      <td>98.699997</td>\n",
       "      <td>157.830002</td>\n",
       "      <td>28.129999</td>\n",
       "      <td>272.290009</td>\n",
       "      <td>293.899994</td>\n",
       "    </tr>\n",
       "    <tr>\n",
       "      <th>2023-03-23 00:00:00-04:00</th>\n",
       "      <td>98.709999</td>\n",
       "      <td>158.929993</td>\n",
       "      <td>29.030001</td>\n",
       "      <td>277.660004</td>\n",
       "      <td>320.369995</td>\n",
       "    </tr>\n",
       "    <tr>\n",
       "      <th>2023-03-24 00:00:00-04:00</th>\n",
       "      <td>98.129997</td>\n",
       "      <td>160.250000</td>\n",
       "      <td>29.360001</td>\n",
       "      <td>280.570007</td>\n",
       "      <td>328.390015</td>\n",
       "    </tr>\n",
       "  </tbody>\n",
       "</table>\n",
       "<p>10848 rows × 5 columns</p>\n",
       "</div>"
      ],
      "text/plain": [
       "                                 AMZN        AAPL       INTC        MSFT  \\\n",
       "Date                                                                       \n",
       "1980-03-17 00:00:00-05:00         NaN         NaN   0.185958         NaN   \n",
       "1980-03-18 00:00:00-05:00         NaN         NaN   0.184470         NaN   \n",
       "1980-03-19 00:00:00-05:00         NaN         NaN   0.188933         NaN   \n",
       "1980-03-20 00:00:00-05:00         NaN         NaN   0.188189         NaN   \n",
       "1980-03-21 00:00:00-05:00         NaN         NaN   0.181494         NaN   \n",
       "...                               ...         ...        ...         ...   \n",
       "2023-03-20 00:00:00-04:00   97.709999  157.399994  29.160000  272.230011   \n",
       "2023-03-21 00:00:00-04:00  100.610001  159.279999  28.459999  273.779999   \n",
       "2023-03-22 00:00:00-04:00   98.699997  157.830002  28.129999  272.290009   \n",
       "2023-03-23 00:00:00-04:00   98.709999  158.929993  29.030001  277.660004   \n",
       "2023-03-24 00:00:00-04:00   98.129997  160.250000  29.360001  280.570007   \n",
       "\n",
       "                                 NFLX  \n",
       "Date                                   \n",
       "1980-03-17 00:00:00-05:00         NaN  \n",
       "1980-03-18 00:00:00-05:00         NaN  \n",
       "1980-03-19 00:00:00-05:00         NaN  \n",
       "1980-03-20 00:00:00-05:00         NaN  \n",
       "1980-03-21 00:00:00-05:00         NaN  \n",
       "...                               ...  \n",
       "2023-03-20 00:00:00-04:00  305.130005  \n",
       "2023-03-21 00:00:00-04:00  305.790009  \n",
       "2023-03-22 00:00:00-04:00  293.899994  \n",
       "2023-03-23 00:00:00-04:00  320.369995  \n",
       "2023-03-24 00:00:00-04:00  328.390015  \n",
       "\n",
       "[10848 rows x 5 columns]"
      ]
     },
     "execution_count": 4,
     "metadata": {},
     "output_type": "execute_result"
    }
   ],
   "source": [
    "empresas = ['AMZN','AAPL','INTC','MSFT','NFLX']\n",
    "\n",
    "recolector =[]\n",
    "for nemo in empresas:\n",
    "    ticker =yf.Ticker(nemo)\n",
    "    px = ticker.history(period='max')['Close']\n",
    "    px.name = nemo\n",
    "\n",
    "    recolector += [px]\n",
    "\n",
    "precios = pd.concat(recolector, axis=1)\n",
    "\n",
    "precios"
   ]
  },
  {
   "cell_type": "code",
   "execution_count": 5,
   "metadata": {},
   "outputs": [],
   "source": [
    "# Reseteamos el index para que el campo Date lo tome como una columna en el DF\n",
    "precios = precios.reset_index()"
   ]
  },
  {
   "cell_type": "code",
   "execution_count": 11,
   "metadata": {},
   "outputs": [
    {
     "data": {
      "text/html": [
       "<div>\n",
       "<style scoped>\n",
       "    .dataframe tbody tr th:only-of-type {\n",
       "        vertical-align: middle;\n",
       "    }\n",
       "\n",
       "    .dataframe tbody tr th {\n",
       "        vertical-align: top;\n",
       "    }\n",
       "\n",
       "    .dataframe thead th {\n",
       "        text-align: right;\n",
       "    }\n",
       "</style>\n",
       "<table border=\"1\" class=\"dataframe\">\n",
       "  <thead>\n",
       "    <tr style=\"text-align: right;\">\n",
       "      <th></th>\n",
       "      <th>Date</th>\n",
       "      <th>AMZN</th>\n",
       "      <th>AAPL</th>\n",
       "      <th>INTC</th>\n",
       "      <th>MSFT</th>\n",
       "      <th>NFLX</th>\n",
       "    </tr>\n",
       "  </thead>\n",
       "  <tbody>\n",
       "    <tr>\n",
       "      <th>0</th>\n",
       "      <td>1980-03-17 00:00:00-05:00</td>\n",
       "      <td>NaN</td>\n",
       "      <td>NaN</td>\n",
       "      <td>0.185958</td>\n",
       "      <td>NaN</td>\n",
       "      <td>NaN</td>\n",
       "    </tr>\n",
       "    <tr>\n",
       "      <th>1</th>\n",
       "      <td>1980-03-18 00:00:00-05:00</td>\n",
       "      <td>NaN</td>\n",
       "      <td>NaN</td>\n",
       "      <td>0.184470</td>\n",
       "      <td>NaN</td>\n",
       "      <td>NaN</td>\n",
       "    </tr>\n",
       "    <tr>\n",
       "      <th>2</th>\n",
       "      <td>1980-03-19 00:00:00-05:00</td>\n",
       "      <td>NaN</td>\n",
       "      <td>NaN</td>\n",
       "      <td>0.188933</td>\n",
       "      <td>NaN</td>\n",
       "      <td>NaN</td>\n",
       "    </tr>\n",
       "    <tr>\n",
       "      <th>3</th>\n",
       "      <td>1980-03-20 00:00:00-05:00</td>\n",
       "      <td>NaN</td>\n",
       "      <td>NaN</td>\n",
       "      <td>0.188189</td>\n",
       "      <td>NaN</td>\n",
       "      <td>NaN</td>\n",
       "    </tr>\n",
       "    <tr>\n",
       "      <th>4</th>\n",
       "      <td>1980-03-21 00:00:00-05:00</td>\n",
       "      <td>NaN</td>\n",
       "      <td>NaN</td>\n",
       "      <td>0.181494</td>\n",
       "      <td>NaN</td>\n",
       "      <td>NaN</td>\n",
       "    </tr>\n",
       "  </tbody>\n",
       "</table>\n",
       "</div>"
      ],
      "text/plain": [
       "                       Date  AMZN  AAPL      INTC  MSFT  NFLX\n",
       "0 1980-03-17 00:00:00-05:00   NaN   NaN  0.185958   NaN   NaN\n",
       "1 1980-03-18 00:00:00-05:00   NaN   NaN  0.184470   NaN   NaN\n",
       "2 1980-03-19 00:00:00-05:00   NaN   NaN  0.188933   NaN   NaN\n",
       "3 1980-03-20 00:00:00-05:00   NaN   NaN  0.188189   NaN   NaN\n",
       "4 1980-03-21 00:00:00-05:00   NaN   NaN  0.181494   NaN   NaN"
      ]
     },
     "execution_count": 11,
     "metadata": {},
     "output_type": "execute_result"
    }
   ],
   "source": [
    "precios.head()"
   ]
  },
  {
   "cell_type": "code",
   "execution_count": 6,
   "metadata": {},
   "outputs": [],
   "source": [
    "precios.to_csv(\"sp500_5Empresas.csv\", index=False)"
   ]
  },
  {
   "cell_type": "code",
   "execution_count": 20,
   "metadata": {},
   "outputs": [],
   "source": [
    "# Crear una lista con los símbolos por cada acción\n",
    "#symbols = ['AMZN', 'AAPL', 'INTC', 'MSFT', 'NFLX']\n",
    "symbols = ['AMZN']"
   ]
  },
  {
   "cell_type": "code",
   "execution_count": 21,
   "metadata": {},
   "outputs": [],
   "source": [
    "# Establecer la fecha de inicio como hace 23 años\n",
    "start_date = datetime.datetime.now() - datetime.timedelta(days=23*365)\n",
    "start_date = start_date.strftime('%Y-%m-%d')"
   ]
  },
  {
   "cell_type": "code",
   "execution_count": 22,
   "metadata": {},
   "outputs": [],
   "source": [
    "# Establecer la fecha final como la fecha actual\n",
    "end_date = datetime.datetime.now().strftime('%Y-%m-%d')"
   ]
  },
  {
   "cell_type": "code",
   "execution_count": 23,
   "metadata": {},
   "outputs": [
    {
     "name": "stdout",
     "output_type": "stream",
     "text": [
      "[*********************100%***********************]  1 of 1 completed\n"
     ]
    }
   ],
   "source": [
    "# Descargar los datos utilizando el método download()\n",
    "data = yf.download(tickers=symbols, start=start_date, end=end_date, interval=\"1d\")"
   ]
  },
  {
   "cell_type": "code",
   "execution_count": 26,
   "metadata": {},
   "outputs": [],
   "source": [
    "df = pd.concat([data], axis=1)"
   ]
  },
  {
   "cell_type": "code",
   "execution_count": 27,
   "metadata": {},
   "outputs": [
    {
     "data": {
      "text/html": [
       "<div>\n",
       "<style scoped>\n",
       "    .dataframe tbody tr th:only-of-type {\n",
       "        vertical-align: middle;\n",
       "    }\n",
       "\n",
       "    .dataframe tbody tr th {\n",
       "        vertical-align: top;\n",
       "    }\n",
       "\n",
       "    .dataframe thead th {\n",
       "        text-align: right;\n",
       "    }\n",
       "</style>\n",
       "<table border=\"1\" class=\"dataframe\">\n",
       "  <thead>\n",
       "    <tr style=\"text-align: right;\">\n",
       "      <th></th>\n",
       "      <th>Open</th>\n",
       "      <th>High</th>\n",
       "      <th>Low</th>\n",
       "      <th>Close</th>\n",
       "      <th>Adj Close</th>\n",
       "      <th>Volume</th>\n",
       "    </tr>\n",
       "    <tr>\n",
       "      <th>Date</th>\n",
       "      <th></th>\n",
       "      <th></th>\n",
       "      <th></th>\n",
       "      <th></th>\n",
       "      <th></th>\n",
       "      <th></th>\n",
       "    </tr>\n",
       "  </thead>\n",
       "  <tbody>\n",
       "    <tr>\n",
       "      <th>2000-03-31</th>\n",
       "      <td>3.337500</td>\n",
       "      <td>3.356250</td>\n",
       "      <td>3.15000</td>\n",
       "      <td>3.350000</td>\n",
       "      <td>3.350000</td>\n",
       "      <td>102310000</td>\n",
       "    </tr>\n",
       "    <tr>\n",
       "      <th>2000-04-03</th>\n",
       "      <td>3.271875</td>\n",
       "      <td>3.284375</td>\n",
       "      <td>3.10000</td>\n",
       "      <td>3.178125</td>\n",
       "      <td>3.178125</td>\n",
       "      <td>97308000</td>\n",
       "    </tr>\n",
       "    <tr>\n",
       "      <th>2000-04-04</th>\n",
       "      <td>3.143750</td>\n",
       "      <td>3.271875</td>\n",
       "      <td>2.78750</td>\n",
       "      <td>3.196875</td>\n",
       "      <td>3.196875</td>\n",
       "      <td>286360000</td>\n",
       "    </tr>\n",
       "    <tr>\n",
       "      <th>2000-04-05</th>\n",
       "      <td>3.087500</td>\n",
       "      <td>3.246875</td>\n",
       "      <td>3.02500</td>\n",
       "      <td>3.109375</td>\n",
       "      <td>3.109375</td>\n",
       "      <td>98000000</td>\n",
       "    </tr>\n",
       "    <tr>\n",
       "      <th>2000-04-06</th>\n",
       "      <td>3.171875</td>\n",
       "      <td>3.275000</td>\n",
       "      <td>3.09375</td>\n",
       "      <td>3.212500</td>\n",
       "      <td>3.212500</td>\n",
       "      <td>120654000</td>\n",
       "    </tr>\n",
       "  </tbody>\n",
       "</table>\n",
       "</div>"
      ],
      "text/plain": [
       "                Open      High      Low     Close  Adj Close     Volume\n",
       "Date                                                                   \n",
       "2000-03-31  3.337500  3.356250  3.15000  3.350000   3.350000  102310000\n",
       "2000-04-03  3.271875  3.284375  3.10000  3.178125   3.178125   97308000\n",
       "2000-04-04  3.143750  3.271875  2.78750  3.196875   3.196875  286360000\n",
       "2000-04-05  3.087500  3.246875  3.02500  3.109375   3.109375   98000000\n",
       "2000-04-06  3.171875  3.275000  3.09375  3.212500   3.212500  120654000"
      ]
     },
     "execution_count": 27,
     "metadata": {},
     "output_type": "execute_result"
    }
   ],
   "source": [
    "df.head()"
   ]
  },
  {
   "cell_type": "code",
   "execution_count": 28,
   "metadata": {},
   "outputs": [],
   "source": [
    "df = df.reset_index()"
   ]
  },
  {
   "cell_type": "code",
   "execution_count": 29,
   "metadata": {},
   "outputs": [
    {
     "data": {
      "text/html": [
       "<div>\n",
       "<style scoped>\n",
       "    .dataframe tbody tr th:only-of-type {\n",
       "        vertical-align: middle;\n",
       "    }\n",
       "\n",
       "    .dataframe tbody tr th {\n",
       "        vertical-align: top;\n",
       "    }\n",
       "\n",
       "    .dataframe thead th {\n",
       "        text-align: right;\n",
       "    }\n",
       "</style>\n",
       "<table border=\"1\" class=\"dataframe\">\n",
       "  <thead>\n",
       "    <tr style=\"text-align: right;\">\n",
       "      <th></th>\n",
       "      <th>Date</th>\n",
       "      <th>Open</th>\n",
       "      <th>High</th>\n",
       "      <th>Low</th>\n",
       "      <th>Close</th>\n",
       "      <th>Adj Close</th>\n",
       "      <th>Volume</th>\n",
       "    </tr>\n",
       "  </thead>\n",
       "  <tbody>\n",
       "    <tr>\n",
       "      <th>0</th>\n",
       "      <td>2000-03-31</td>\n",
       "      <td>3.337500</td>\n",
       "      <td>3.356250</td>\n",
       "      <td>3.15000</td>\n",
       "      <td>3.350000</td>\n",
       "      <td>3.350000</td>\n",
       "      <td>102310000</td>\n",
       "    </tr>\n",
       "    <tr>\n",
       "      <th>1</th>\n",
       "      <td>2000-04-03</td>\n",
       "      <td>3.271875</td>\n",
       "      <td>3.284375</td>\n",
       "      <td>3.10000</td>\n",
       "      <td>3.178125</td>\n",
       "      <td>3.178125</td>\n",
       "      <td>97308000</td>\n",
       "    </tr>\n",
       "    <tr>\n",
       "      <th>2</th>\n",
       "      <td>2000-04-04</td>\n",
       "      <td>3.143750</td>\n",
       "      <td>3.271875</td>\n",
       "      <td>2.78750</td>\n",
       "      <td>3.196875</td>\n",
       "      <td>3.196875</td>\n",
       "      <td>286360000</td>\n",
       "    </tr>\n",
       "    <tr>\n",
       "      <th>3</th>\n",
       "      <td>2000-04-05</td>\n",
       "      <td>3.087500</td>\n",
       "      <td>3.246875</td>\n",
       "      <td>3.02500</td>\n",
       "      <td>3.109375</td>\n",
       "      <td>3.109375</td>\n",
       "      <td>98000000</td>\n",
       "    </tr>\n",
       "    <tr>\n",
       "      <th>4</th>\n",
       "      <td>2000-04-06</td>\n",
       "      <td>3.171875</td>\n",
       "      <td>3.275000</td>\n",
       "      <td>3.09375</td>\n",
       "      <td>3.212500</td>\n",
       "      <td>3.212500</td>\n",
       "      <td>120654000</td>\n",
       "    </tr>\n",
       "  </tbody>\n",
       "</table>\n",
       "</div>"
      ],
      "text/plain": [
       "        Date      Open      High      Low     Close  Adj Close     Volume\n",
       "0 2000-03-31  3.337500  3.356250  3.15000  3.350000   3.350000  102310000\n",
       "1 2000-04-03  3.271875  3.284375  3.10000  3.178125   3.178125   97308000\n",
       "2 2000-04-04  3.143750  3.271875  2.78750  3.196875   3.196875  286360000\n",
       "3 2000-04-05  3.087500  3.246875  3.02500  3.109375   3.109375   98000000\n",
       "4 2000-04-06  3.171875  3.275000  3.09375  3.212500   3.212500  120654000"
      ]
     },
     "execution_count": 29,
     "metadata": {},
     "output_type": "execute_result"
    }
   ],
   "source": [
    "df.head()"
   ]
  },
  {
   "cell_type": "code",
   "execution_count": 30,
   "metadata": {},
   "outputs": [],
   "source": [
    "df.to_csv(\"Amazon.csv\", index=False)"
   ]
  },
  {
   "attachments": {},
   "cell_type": "markdown",
   "metadata": {},
   "source": [
    "Haremos lo mismo para lás demás compañías."
   ]
  },
  {
   "cell_type": "code",
   "execution_count": 32,
   "metadata": {},
   "outputs": [
    {
     "name": "stdout",
     "output_type": "stream",
     "text": [
      "[*********************100%***********************]  1 of 1 completed\n"
     ]
    }
   ],
   "source": [
    "symbols = ['AAPL']\n",
    "# Establecer la fecha de inicio como hace 23 años\n",
    "start_date = datetime.datetime.now() - datetime.timedelta(days=23*365)\n",
    "start_date = start_date.strftime('%Y-%m-%d')\n",
    "# Establecer la fecha final como la fecha actual\n",
    "end_date = datetime.datetime.now().strftime('%Y-%m-%d')\n",
    "# Descargar los datos utilizando el método download()\n",
    "data = yf.download(tickers=symbols, start=start_date, end=end_date, interval=\"1d\")\n",
    "df = pd.concat([data], axis=1)\n",
    "df = df.reset_index()\n",
    "df.to_csv(\"Apple.csv\", index=False)"
   ]
  },
  {
   "cell_type": "code",
   "execution_count": 33,
   "metadata": {},
   "outputs": [
    {
     "name": "stdout",
     "output_type": "stream",
     "text": [
      "[*********************100%***********************]  1 of 1 completed\n"
     ]
    }
   ],
   "source": [
    "symbols = ['INTC']\n",
    "# Establecer la fecha de inicio como hace 23 años\n",
    "start_date = datetime.datetime.now() - datetime.timedelta(days=23*365)\n",
    "start_date = start_date.strftime('%Y-%m-%d')\n",
    "# Establecer la fecha final como la fecha actual\n",
    "end_date = datetime.datetime.now().strftime('%Y-%m-%d')\n",
    "# Descargar los datos utilizando el método download()\n",
    "data = yf.download(tickers=symbols, start=start_date, end=end_date, interval=\"1d\")\n",
    "df = pd.concat([data], axis=1)\n",
    "df = df.reset_index()\n",
    "df.to_csv(\"IntelInc.csv\", index=False)"
   ]
  },
  {
   "cell_type": "code",
   "execution_count": 34,
   "metadata": {},
   "outputs": [
    {
     "name": "stdout",
     "output_type": "stream",
     "text": [
      "[*********************100%***********************]  1 of 1 completed\n"
     ]
    }
   ],
   "source": [
    "symbols = ['MSFT']\n",
    "# Establecer la fecha de inicio como hace 23 años\n",
    "start_date = datetime.datetime.now() - datetime.timedelta(days=23*365)\n",
    "start_date = start_date.strftime('%Y-%m-%d')\n",
    "# Establecer la fecha final como la fecha actual\n",
    "end_date = datetime.datetime.now().strftime('%Y-%m-%d')\n",
    "# Descargar los datos utilizando el método download()\n",
    "data = yf.download(tickers=symbols, start=start_date, end=end_date, interval=\"1d\")\n",
    "df = pd.concat([data], axis=1)\n",
    "df = df.reset_index()\n",
    "df.to_csv(\"Microsoft.csv\", index=False)"
   ]
  },
  {
   "cell_type": "code",
   "execution_count": 35,
   "metadata": {},
   "outputs": [
    {
     "name": "stdout",
     "output_type": "stream",
     "text": [
      "[*********************100%***********************]  1 of 1 completed\n"
     ]
    }
   ],
   "source": [
    "symbols = ['NFLX']\n",
    "# Establecer la fecha de inicio como hace 23 años\n",
    "start_date = datetime.datetime.now() - datetime.timedelta(days=23*365)\n",
    "start_date = start_date.strftime('%Y-%m-%d')\n",
    "# Establecer la fecha final como la fecha actual\n",
    "end_date = datetime.datetime.now().strftime('%Y-%m-%d')\n",
    "# Descargar los datos utilizando el método download()\n",
    "data = yf.download(tickers=symbols, start=start_date, end=end_date, interval=\"1d\")\n",
    "df = pd.concat([data], axis=1)\n",
    "df = df.reset_index()\n",
    "df.to_csv(\"Netflix.csv\", index=False)"
   ]
  },
  {
   "cell_type": "code",
   "execution_count": 26,
   "metadata": {},
   "outputs": [
    {
     "name": "stdout",
     "output_type": "stream",
     "text": [
      "[*********************100%***********************]  1 of 1 completed\n"
     ]
    }
   ],
   "source": [
    "symbols = ['HD']\n",
    "# Establecer la fecha de inicio como hace 23 años\n",
    "start_date = datetime.datetime.now() - datetime.timedelta(days=23*365)\n",
    "start_date = start_date.strftime('%Y-%m-%d')\n",
    "# Establecer la fecha final como la fecha actual\n",
    "end_date = datetime.datetime.now().strftime('%Y-%m-%d')\n",
    "# Descargar los datos utilizando el método download()\n",
    "data = yf.download(tickers=symbols, start=start_date, end=end_date, interval=\"1d\")\n",
    "df = pd.concat([data], axis=1)\n",
    "df = df.reset_index()\n",
    "df.to_csv(\"HomeD.csv\", index=False)"
   ]
  },
  {
   "cell_type": "code",
   "execution_count": 27,
   "metadata": {},
   "outputs": [
    {
     "name": "stdout",
     "output_type": "stream",
     "text": [
      "[*********************100%***********************]  1 of 1 completed\n"
     ]
    }
   ],
   "source": [
    "symbols = ['WMT']\n",
    "# Establecer la fecha de inicio como hace 23 años\n",
    "start_date = datetime.datetime.now() - datetime.timedelta(days=23*365)\n",
    "start_date = start_date.strftime('%Y-%m-%d')\n",
    "# Establecer la fecha final como la fecha actual\n",
    "end_date = datetime.datetime.now().strftime('%Y-%m-%d')\n",
    "# Descargar los datos utilizando el método download()\n",
    "data = yf.download(tickers=symbols, start=start_date, end=end_date, interval=\"1d\")\n",
    "df = pd.concat([data], axis=1)\n",
    "df = df.reset_index()\n",
    "df.to_csv(\"Walmart.csv\", index=False)"
   ]
  },
  {
   "cell_type": "code",
   "execution_count": 28,
   "metadata": {},
   "outputs": [
    {
     "name": "stdout",
     "output_type": "stream",
     "text": [
      "[*********************100%***********************]  1 of 1 completed\n"
     ]
    }
   ],
   "source": [
    "symbols = ['MCD']\n",
    "# Establecer la fecha de inicio como hace 23 años\n",
    "start_date = datetime.datetime.now() - datetime.timedelta(days=23*365)\n",
    "start_date = start_date.strftime('%Y-%m-%d')\n",
    "# Establecer la fecha final como la fecha actual\n",
    "end_date = datetime.datetime.now().strftime('%Y-%m-%d')\n",
    "# Descargar los datos utilizando el método download()\n",
    "data = yf.download(tickers=symbols, start=start_date, end=end_date, interval=\"1d\")\n",
    "df = pd.concat([data], axis=1)\n",
    "df = df.reset_index()\n",
    "df.to_csv(\"McDonalds.csv\", index=False)"
   ]
  },
  {
   "cell_type": "code",
   "execution_count": 29,
   "metadata": {},
   "outputs": [
    {
     "name": "stdout",
     "output_type": "stream",
     "text": [
      "[*********************100%***********************]  1 of 1 completed\n"
     ]
    }
   ],
   "source": [
    "symbols = ['MRNA']\n",
    "# Establecer la fecha de inicio como hace 23 años\n",
    "start_date = datetime.datetime.now() - datetime.timedelta(days=23*365)\n",
    "start_date = start_date.strftime('%Y-%m-%d')\n",
    "# Establecer la fecha final como la fecha actual\n",
    "end_date = datetime.datetime.now().strftime('%Y-%m-%d')\n",
    "# Descargar los datos utilizando el método download()\n",
    "data = yf.download(tickers=symbols, start=start_date, end=end_date, interval=\"1d\")\n",
    "df = pd.concat([data], axis=1)\n",
    "df = df.reset_index()\n",
    "df.to_csv(\"Moderna.csv\", index=False)"
   ]
  },
  {
   "attachments": {},
   "cell_type": "markdown",
   "metadata": {},
   "source": [
    "Con el siguiente código, extraeremos desde internet los siguentes valores: \"Last Price\", \"Change\", \"Change\". Se utilizó la API Alpha Vantage ya que Yahoo Finance no permitía hacer la consulta."
   ]
  },
  {
   "cell_type": "code",
   "execution_count": 31,
   "metadata": {},
   "outputs": [],
   "source": [
    "import pandas as pd\n",
    "import requests\n",
    "\n",
    "# API key de Alpha Vantage\n",
    "api_key = \"G6W7IMMF8IEX42FY\"\n",
    "\n",
    "# Símbolo de la acción que queremos obtener\n",
    "symbol = \"MRNA\"\n",
    "\n",
    "# URL para obtener los datos de la acción\n",
    "url = f\"https://www.alphavantage.co/query?function=GLOBAL_QUOTE&symbol={symbol}&apikey={api_key}\"\n",
    "\n",
    "# Hacemos la petición HTTP GET\n",
    "response = requests.get(url)\n",
    "\n",
    "# Obtenemos los datos en formato JSON\n",
    "data = response.json()\n",
    "\n",
    "# Creamos un diccionario con los valores que queremos\n",
    "stock_info = {\n",
    "    \"Last Price\": data[\"Global Quote\"][\"05. price\"],\n",
    "    \"Change\": data[\"Global Quote\"][\"09. change\"],\n",
    "    \"% Change\": data[\"Global Quote\"][\"10. change percent\"]\n",
    "}\n",
    "\n",
    "# Creamos el DataFrame\n",
    "df = pd.DataFrame(stock_info, index=[0])\n",
    "df.to_csv(\"Alpha_Moderna.csv\", index=False)"
   ]
  },
  {
   "cell_type": "code",
   "execution_count": null,
   "metadata": {},
   "outputs": [],
   "source": [
    "import pandas as pd\n",
    "import requests\n",
    "\n",
    "# API key de Alpha Vantage\n",
    "api_key = \"G6W7IMMF8IEX42FY\"\n",
    "\n",
    "# Símbolo de la acción que queremos obtener\n",
    "symbol = \"MCD\"\n",
    "\n",
    "# URL para obtener los datos de la acción\n",
    "url = f\"https://www.alphavantage.co/query?function=GLOBAL_QUOTE&symbol={symbol}&apikey={api_key}\"\n",
    "\n",
    "# Hacemos la petición HTTP GET\n",
    "response = requests.get(url)\n",
    "\n",
    "# Obtenemos los datos en formato JSON\n",
    "data = response.json()\n",
    "\n",
    "# Creamos un diccionario con los valores que queremos\n",
    "stock_info = {\n",
    "    \"Last Price\": data[\"Global Quote\"][\"05. price\"],\n",
    "    \"Change\": data[\"Global Quote\"][\"09. change\"],\n",
    "    \"% Change\": data[\"Global Quote\"][\"10. change percent\"]\n",
    "}\n",
    "\n",
    "# Creamos el DataFrame\n",
    "df = pd.DataFrame(stock_info, index=[0])\n",
    "df.to_csv(\"Alpha_McDonalds.csv\", index=False)"
   ]
  },
  {
   "cell_type": "code",
   "execution_count": 2,
   "metadata": {},
   "outputs": [
    {
     "name": "stdout",
     "output_type": "stream",
     "text": [
      "[*********************100%***********************]  1 of 1 completed\n"
     ]
    }
   ],
   "source": [
    "ticker = \"AMZN\"\n",
    "data = yf.download(ticker, start=\"2000-01-01\", end=\"2023-03-27\")\n",
    "prices = data[\"Adj Close\"].resample(\"Y\").last()"
   ]
  },
  {
   "cell_type": "code",
   "execution_count": 8,
   "metadata": {},
   "outputs": [
    {
     "data": {
      "text/html": [
       "<div>\n",
       "<style scoped>\n",
       "    .dataframe tbody tr th:only-of-type {\n",
       "        vertical-align: middle;\n",
       "    }\n",
       "\n",
       "    .dataframe tbody tr th {\n",
       "        vertical-align: top;\n",
       "    }\n",
       "\n",
       "    .dataframe thead th {\n",
       "        text-align: right;\n",
       "    }\n",
       "</style>\n",
       "<table border=\"1\" class=\"dataframe\">\n",
       "  <thead>\n",
       "    <tr style=\"text-align: right;\">\n",
       "      <th></th>\n",
       "      <th>Date</th>\n",
       "      <th>Adj Close</th>\n",
       "    </tr>\n",
       "  </thead>\n",
       "  <tbody>\n",
       "    <tr>\n",
       "      <th>0</th>\n",
       "      <td>2000-12-31</td>\n",
       "      <td>0.778125</td>\n",
       "    </tr>\n",
       "    <tr>\n",
       "      <th>1</th>\n",
       "      <td>2001-12-31</td>\n",
       "      <td>0.541000</td>\n",
       "    </tr>\n",
       "    <tr>\n",
       "      <th>2</th>\n",
       "      <td>2002-12-31</td>\n",
       "      <td>0.944500</td>\n",
       "    </tr>\n",
       "    <tr>\n",
       "      <th>3</th>\n",
       "      <td>2003-12-31</td>\n",
       "      <td>2.631000</td>\n",
       "    </tr>\n",
       "    <tr>\n",
       "      <th>4</th>\n",
       "      <td>2004-12-31</td>\n",
       "      <td>2.214500</td>\n",
       "    </tr>\n",
       "    <tr>\n",
       "      <th>5</th>\n",
       "      <td>2005-12-31</td>\n",
       "      <td>2.357500</td>\n",
       "    </tr>\n",
       "    <tr>\n",
       "      <th>6</th>\n",
       "      <td>2006-12-31</td>\n",
       "      <td>1.973000</td>\n",
       "    </tr>\n",
       "    <tr>\n",
       "      <th>7</th>\n",
       "      <td>2007-12-31</td>\n",
       "      <td>4.632000</td>\n",
       "    </tr>\n",
       "    <tr>\n",
       "      <th>8</th>\n",
       "      <td>2008-12-31</td>\n",
       "      <td>2.564000</td>\n",
       "    </tr>\n",
       "    <tr>\n",
       "      <th>9</th>\n",
       "      <td>2009-12-31</td>\n",
       "      <td>6.726000</td>\n",
       "    </tr>\n",
       "    <tr>\n",
       "      <th>10</th>\n",
       "      <td>2010-12-31</td>\n",
       "      <td>9.000000</td>\n",
       "    </tr>\n",
       "    <tr>\n",
       "      <th>11</th>\n",
       "      <td>2011-12-31</td>\n",
       "      <td>8.655000</td>\n",
       "    </tr>\n",
       "    <tr>\n",
       "      <th>12</th>\n",
       "      <td>2012-12-31</td>\n",
       "      <td>12.543500</td>\n",
       "    </tr>\n",
       "    <tr>\n",
       "      <th>13</th>\n",
       "      <td>2013-12-31</td>\n",
       "      <td>19.939501</td>\n",
       "    </tr>\n",
       "    <tr>\n",
       "      <th>14</th>\n",
       "      <td>2014-12-31</td>\n",
       "      <td>15.517500</td>\n",
       "    </tr>\n",
       "    <tr>\n",
       "      <th>15</th>\n",
       "      <td>2015-12-31</td>\n",
       "      <td>33.794498</td>\n",
       "    </tr>\n",
       "    <tr>\n",
       "      <th>16</th>\n",
       "      <td>2016-12-31</td>\n",
       "      <td>37.493500</td>\n",
       "    </tr>\n",
       "    <tr>\n",
       "      <th>17</th>\n",
       "      <td>2017-12-31</td>\n",
       "      <td>58.473499</td>\n",
       "    </tr>\n",
       "    <tr>\n",
       "      <th>18</th>\n",
       "      <td>2018-12-31</td>\n",
       "      <td>75.098503</td>\n",
       "    </tr>\n",
       "    <tr>\n",
       "      <th>19</th>\n",
       "      <td>2019-12-31</td>\n",
       "      <td>92.391998</td>\n",
       "    </tr>\n",
       "    <tr>\n",
       "      <th>20</th>\n",
       "      <td>2020-12-31</td>\n",
       "      <td>162.846497</td>\n",
       "    </tr>\n",
       "    <tr>\n",
       "      <th>21</th>\n",
       "      <td>2021-12-31</td>\n",
       "      <td>166.716995</td>\n",
       "    </tr>\n",
       "    <tr>\n",
       "      <th>22</th>\n",
       "      <td>2022-12-31</td>\n",
       "      <td>84.000000</td>\n",
       "    </tr>\n",
       "    <tr>\n",
       "      <th>23</th>\n",
       "      <td>2023-12-31</td>\n",
       "      <td>98.129997</td>\n",
       "    </tr>\n",
       "  </tbody>\n",
       "</table>\n",
       "</div>"
      ],
      "text/plain": [
       "         Date   Adj Close\n",
       "0  2000-12-31    0.778125\n",
       "1  2001-12-31    0.541000\n",
       "2  2002-12-31    0.944500\n",
       "3  2003-12-31    2.631000\n",
       "4  2004-12-31    2.214500\n",
       "5  2005-12-31    2.357500\n",
       "6  2006-12-31    1.973000\n",
       "7  2007-12-31    4.632000\n",
       "8  2008-12-31    2.564000\n",
       "9  2009-12-31    6.726000\n",
       "10 2010-12-31    9.000000\n",
       "11 2011-12-31    8.655000\n",
       "12 2012-12-31   12.543500\n",
       "13 2013-12-31   19.939501\n",
       "14 2014-12-31   15.517500\n",
       "15 2015-12-31   33.794498\n",
       "16 2016-12-31   37.493500\n",
       "17 2017-12-31   58.473499\n",
       "18 2018-12-31   75.098503\n",
       "19 2019-12-31   92.391998\n",
       "20 2020-12-31  162.846497\n",
       "21 2021-12-31  166.716995\n",
       "22 2022-12-31   84.000000\n",
       "23 2023-12-31   98.129997"
      ]
     },
     "execution_count": 8,
     "metadata": {},
     "output_type": "execute_result"
    }
   ],
   "source": [
    "df = pd.concat([prices], axis=1)\n",
    "df = df.reset_index()\n",
    "df.to_csv(\"Amazon_RClose.csv\", index=False)\n",
    "df"
   ]
  },
  {
   "cell_type": "code",
   "execution_count": 9,
   "metadata": {},
   "outputs": [],
   "source": [
    "# Calcular la diferencia porcentual\n",
    "df['Diff %'] = (df['Adj Close'].iloc[1:] - df['Adj Close'].shift(1).iloc[1:]) / df['Adj Close'].shift(1).iloc[1:]"
   ]
  },
  {
   "cell_type": "code",
   "execution_count": 10,
   "metadata": {},
   "outputs": [
    {
     "data": {
      "text/html": [
       "<div>\n",
       "<style scoped>\n",
       "    .dataframe tbody tr th:only-of-type {\n",
       "        vertical-align: middle;\n",
       "    }\n",
       "\n",
       "    .dataframe tbody tr th {\n",
       "        vertical-align: top;\n",
       "    }\n",
       "\n",
       "    .dataframe thead th {\n",
       "        text-align: right;\n",
       "    }\n",
       "</style>\n",
       "<table border=\"1\" class=\"dataframe\">\n",
       "  <thead>\n",
       "    <tr style=\"text-align: right;\">\n",
       "      <th></th>\n",
       "      <th>Date</th>\n",
       "      <th>Adj Close</th>\n",
       "      <th>Diff %</th>\n",
       "    </tr>\n",
       "  </thead>\n",
       "  <tbody>\n",
       "    <tr>\n",
       "      <th>0</th>\n",
       "      <td>2000-12-31</td>\n",
       "      <td>0.778125</td>\n",
       "      <td>NaN</td>\n",
       "    </tr>\n",
       "    <tr>\n",
       "      <th>1</th>\n",
       "      <td>2001-12-31</td>\n",
       "      <td>0.541000</td>\n",
       "      <td>-0.304739</td>\n",
       "    </tr>\n",
       "    <tr>\n",
       "      <th>2</th>\n",
       "      <td>2002-12-31</td>\n",
       "      <td>0.944500</td>\n",
       "      <td>0.745841</td>\n",
       "    </tr>\n",
       "    <tr>\n",
       "      <th>3</th>\n",
       "      <td>2003-12-31</td>\n",
       "      <td>2.631000</td>\n",
       "      <td>1.785601</td>\n",
       "    </tr>\n",
       "    <tr>\n",
       "      <th>4</th>\n",
       "      <td>2004-12-31</td>\n",
       "      <td>2.214500</td>\n",
       "      <td>-0.158305</td>\n",
       "    </tr>\n",
       "    <tr>\n",
       "      <th>5</th>\n",
       "      <td>2005-12-31</td>\n",
       "      <td>2.357500</td>\n",
       "      <td>0.064574</td>\n",
       "    </tr>\n",
       "    <tr>\n",
       "      <th>6</th>\n",
       "      <td>2006-12-31</td>\n",
       "      <td>1.973000</td>\n",
       "      <td>-0.163097</td>\n",
       "    </tr>\n",
       "    <tr>\n",
       "      <th>7</th>\n",
       "      <td>2007-12-31</td>\n",
       "      <td>4.632000</td>\n",
       "      <td>1.347694</td>\n",
       "    </tr>\n",
       "    <tr>\n",
       "      <th>8</th>\n",
       "      <td>2008-12-31</td>\n",
       "      <td>2.564000</td>\n",
       "      <td>-0.446459</td>\n",
       "    </tr>\n",
       "    <tr>\n",
       "      <th>9</th>\n",
       "      <td>2009-12-31</td>\n",
       "      <td>6.726000</td>\n",
       "      <td>1.623245</td>\n",
       "    </tr>\n",
       "    <tr>\n",
       "      <th>10</th>\n",
       "      <td>2010-12-31</td>\n",
       "      <td>9.000000</td>\n",
       "      <td>0.338091</td>\n",
       "    </tr>\n",
       "    <tr>\n",
       "      <th>11</th>\n",
       "      <td>2011-12-31</td>\n",
       "      <td>8.655000</td>\n",
       "      <td>-0.038333</td>\n",
       "    </tr>\n",
       "    <tr>\n",
       "      <th>12</th>\n",
       "      <td>2012-12-31</td>\n",
       "      <td>12.543500</td>\n",
       "      <td>0.449278</td>\n",
       "    </tr>\n",
       "    <tr>\n",
       "      <th>13</th>\n",
       "      <td>2013-12-31</td>\n",
       "      <td>19.939501</td>\n",
       "      <td>0.589628</td>\n",
       "    </tr>\n",
       "    <tr>\n",
       "      <th>14</th>\n",
       "      <td>2014-12-31</td>\n",
       "      <td>15.517500</td>\n",
       "      <td>-0.221771</td>\n",
       "    </tr>\n",
       "    <tr>\n",
       "      <th>15</th>\n",
       "      <td>2015-12-31</td>\n",
       "      <td>33.794498</td>\n",
       "      <td>1.177831</td>\n",
       "    </tr>\n",
       "    <tr>\n",
       "      <th>16</th>\n",
       "      <td>2016-12-31</td>\n",
       "      <td>37.493500</td>\n",
       "      <td>0.109456</td>\n",
       "    </tr>\n",
       "    <tr>\n",
       "      <th>17</th>\n",
       "      <td>2017-12-31</td>\n",
       "      <td>58.473499</td>\n",
       "      <td>0.559564</td>\n",
       "    </tr>\n",
       "    <tr>\n",
       "      <th>18</th>\n",
       "      <td>2018-12-31</td>\n",
       "      <td>75.098503</td>\n",
       "      <td>0.284317</td>\n",
       "    </tr>\n",
       "    <tr>\n",
       "      <th>19</th>\n",
       "      <td>2019-12-31</td>\n",
       "      <td>92.391998</td>\n",
       "      <td>0.230277</td>\n",
       "    </tr>\n",
       "    <tr>\n",
       "      <th>20</th>\n",
       "      <td>2020-12-31</td>\n",
       "      <td>162.846497</td>\n",
       "      <td>0.762561</td>\n",
       "    </tr>\n",
       "    <tr>\n",
       "      <th>21</th>\n",
       "      <td>2021-12-31</td>\n",
       "      <td>166.716995</td>\n",
       "      <td>0.023768</td>\n",
       "    </tr>\n",
       "    <tr>\n",
       "      <th>22</th>\n",
       "      <td>2022-12-31</td>\n",
       "      <td>84.000000</td>\n",
       "      <td>-0.496152</td>\n",
       "    </tr>\n",
       "    <tr>\n",
       "      <th>23</th>\n",
       "      <td>2023-12-31</td>\n",
       "      <td>98.129997</td>\n",
       "      <td>0.168214</td>\n",
       "    </tr>\n",
       "  </tbody>\n",
       "</table>\n",
       "</div>"
      ],
      "text/plain": [
       "         Date   Adj Close    Diff %\n",
       "0  2000-12-31    0.778125       NaN\n",
       "1  2001-12-31    0.541000 -0.304739\n",
       "2  2002-12-31    0.944500  0.745841\n",
       "3  2003-12-31    2.631000  1.785601\n",
       "4  2004-12-31    2.214500 -0.158305\n",
       "5  2005-12-31    2.357500  0.064574\n",
       "6  2006-12-31    1.973000 -0.163097\n",
       "7  2007-12-31    4.632000  1.347694\n",
       "8  2008-12-31    2.564000 -0.446459\n",
       "9  2009-12-31    6.726000  1.623245\n",
       "10 2010-12-31    9.000000  0.338091\n",
       "11 2011-12-31    8.655000 -0.038333\n",
       "12 2012-12-31   12.543500  0.449278\n",
       "13 2013-12-31   19.939501  0.589628\n",
       "14 2014-12-31   15.517500 -0.221771\n",
       "15 2015-12-31   33.794498  1.177831\n",
       "16 2016-12-31   37.493500  0.109456\n",
       "17 2017-12-31   58.473499  0.559564\n",
       "18 2018-12-31   75.098503  0.284317\n",
       "19 2019-12-31   92.391998  0.230277\n",
       "20 2020-12-31  162.846497  0.762561\n",
       "21 2021-12-31  166.716995  0.023768\n",
       "22 2022-12-31   84.000000 -0.496152\n",
       "23 2023-12-31   98.129997  0.168214"
      ]
     },
     "execution_count": 10,
     "metadata": {},
     "output_type": "execute_result"
    }
   ],
   "source": [
    "df"
   ]
  },
  {
   "cell_type": "code",
   "execution_count": 13,
   "metadata": {},
   "outputs": [
    {
     "data": {
      "text/plain": [
       "0.36656886281258017"
      ]
     },
     "execution_count": 13,
     "metadata": {},
     "output_type": "execute_result"
    }
   ],
   "source": [
    "# calcular la rentabilidad promedio anual \n",
    "PromedioRentabilidadAnual = df['Diff %'].mean()\n",
    "PromedioRentabilidadAnual"
   ]
  },
  {
   "cell_type": "code",
   "execution_count": 15,
   "metadata": {},
   "outputs": [
    {
     "data": {
      "text/plain": [
       "0.62102790904062"
      ]
     },
     "execution_count": 15,
     "metadata": {},
     "output_type": "execute_result"
    }
   ],
   "source": [
    "#calcular la desviacion estandar de la muestra, esta seria la volatilidad\n",
    "desv_std = np.std(df['Diff %'])\n",
    "desv_std"
   ]
  },
  {
   "cell_type": "code",
   "execution_count": 16,
   "metadata": {},
   "outputs": [
    {
     "name": "stdout",
     "output_type": "stream",
     "text": [
      "La volatilidad anualizada de Amazon del 2000 al 2023 es: 50.56 %\n"
     ]
    }
   ],
   "source": [
    "# Obtener el historial de precios de Amazon\n",
    "amazon = yf.Ticker(\"AMZN\")\n",
    "hist = amazon.history(start=\"2000-01-01\", end=\"2023-03-27\")\n",
    "\n",
    "# Calcular los retornos diarios\n",
    "returns = hist['Close'].pct_change()\n",
    "\n",
    "# Calcular la volatilidad anualizada\n",
    "volatility = returns.std() * (252 ** 0.5)\n",
    "\n",
    "print(\"La volatilidad anualizada de Amazon del 2000 al 2023 es:\", round(volatility * 100, 2), \"%\")"
   ]
  },
  {
   "cell_type": "code",
   "execution_count": 17,
   "metadata": {},
   "outputs": [
    {
     "name": "stdout",
     "output_type": "stream",
     "text": [
      "[*********************100%***********************]  1 of 1 completed\n",
      "La volatilidad anualizada de Amazon desde 2000 hasta 2023 es: 0.5\n"
     ]
    }
   ],
   "source": [
    "# Obtener el historial de precios de Amazon\n",
    "amzn = yf.download('AMZN', start='2000-01-01', end='2023-03-27')\n",
    "amzn['Log Returns'] = np.log(amzn['Adj Close']) - np.log(amzn['Adj Close'].shift(1))\n",
    "volatility = amzn['Log Returns'].std() * np.sqrt(252)\n",
    "print(\"La volatilidad anualizada de Amazon desde 2000 hasta 2023 es:\", round(volatility, 2))"
   ]
  },
  {
   "cell_type": "code",
   "execution_count": 19,
   "metadata": {},
   "outputs": [
    {
     "data": {
      "image/png": "[encoded data removed]",
      "text/plain": [
       "<Figure size 1000x600 with 1 Axes>"
      ]
     },
     "metadata": {},
     "output_type": "display_data"
    }
   ],
   "source": [
    "\n",
    "amzn['Log Returns'].plot(figsize=(10,6))\n",
    "plt.title('Retornos Logarítmicos Diarios de Amazon (2000-2023)')\n",
    "plt.xlabel('Fecha')\n",
    "plt.ylabel('Retorno')\n",
    "plt.show()\n"
   ]
  },
  {
   "cell_type": "code",
   "execution_count": 20,
   "metadata": {},
   "outputs": [
    {
     "data": {
      "image/png": "[encoded data removed]",
      "text/plain": [
       "<Figure size 1000x600 with 1 Axes>"
      ]
     },
     "metadata": {},
     "output_type": "display_data"
    }
   ],
   "source": [
    "df['Diff %'].plot(figsize=(10,6))\n",
    "plt.title('Retornos Logarítmicos Diarios de Amazon (2000-2023)')\n",
    "plt.xlabel('Fecha')\n",
    "plt.ylabel('Retorno')\n",
    "plt.show()\n"
   ]
  }
 ],
 "metadata": {
  "kernelspec": {
   "display_name": "base",
   "language": "python",
   "name": "python3"
  },
  "language_info": {
   "codemirror_mode": {
    "name": "ipython",
    "version": 3
   },
   "file_extension": ".py",
   "mimetype": "text/x-python",
   "name": "python",
   "nbconvert_exporter": "python",
   "pygments_lexer": "ipython3",
   "version": "3.9.16"
  },
  "orig_nbformat": 4
 },
 "nbformat": 4,
 "nbformat_minor": 2
}
